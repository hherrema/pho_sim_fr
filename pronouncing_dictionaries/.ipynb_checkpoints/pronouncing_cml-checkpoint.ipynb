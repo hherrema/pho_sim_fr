{
 "cells": [
  {
   "cell_type": "markdown",
   "id": "522cb096-fc68-410d-bd7b-70ae710c64e4",
   "metadata": {},
   "source": [
    "## Pronouncing Dictionaries\n",
    "\n",
    "Map all encoded and recalled words to phoneme breakdown."
   ]
  },
  {
   "cell_type": "code",
   "execution_count": 1,
   "id": "e7e78c81-de57-410d-8515-bc7d2e83651b",
   "metadata": {},
   "outputs": [
    {
     "name": "stderr",
     "output_type": "stream",
     "text": [
      "[nltk_data] Downloading package cmudict to\n",
      "[nltk_data]     /home1/hherrema/nltk_data...\n",
      "[nltk_data]   Package cmudict is already up-to-date!\n"
     ]
    },
    {
     "data": {
      "text/plain": [
       "True"
      ]
     },
     "execution_count": 1,
     "metadata": {},
     "output_type": "execute_result"
    }
   ],
   "source": [
    "# imports\n",
    "import cmlreaders as cml\n",
    "import numpy as np\n",
    "import pandas as pd; pd.set_option('display.max_columns', None)\n",
    "import json\n",
    "from tqdm.notebook import tqdm\n",
    "import warnings; warnings.filterwarnings(\"ignore\")\n",
    "import nltk\n",
    "from nltk.corpus import cmudict\n",
    "\n",
    "# download CMU Pronouncing Dictionary\n",
    "nltk.download('cmudict')"
   ]
  },
  {
   "cell_type": "code",
   "execution_count": 2,
   "id": "f1c68cde-4118-4ce0-aa5e-55ad05c3cf7e",
   "metadata": {},
   "outputs": [
    {
     "data": {
      "text/html": [
       "<div>\n",
       "<style scoped>\n",
       "    .dataframe tbody tr th:only-of-type {\n",
       "        vertical-align: middle;\n",
       "    }\n",
       "\n",
       "    .dataframe tbody tr th {\n",
       "        vertical-align: top;\n",
       "    }\n",
       "\n",
       "    .dataframe thead th {\n",
       "        text-align: right;\n",
       "    }\n",
       "</style>\n",
       "<table border=\"1\" class=\"dataframe\">\n",
       "  <thead>\n",
       "    <tr style=\"text-align: right;\">\n",
       "      <th></th>\n",
       "      <th>all_events</th>\n",
       "      <th>experiment</th>\n",
       "      <th>import_type</th>\n",
       "      <th>math_events</th>\n",
       "      <th>original_session</th>\n",
       "      <th>session</th>\n",
       "      <th>subject</th>\n",
       "      <th>subject_alias</th>\n",
       "      <th>task_events</th>\n",
       "    </tr>\n",
       "  </thead>\n",
       "  <tbody>\n",
       "    <tr>\n",
       "      <th>487</th>\n",
       "      <td>protocols/ltp/subjects/LTP093/experiments/ltpF...</td>\n",
       "      <td>ltpFR2</td>\n",
       "      <td>build</td>\n",
       "      <td>protocols/ltp/subjects/LTP093/experiments/ltpF...</td>\n",
       "      <td>0</td>\n",
       "      <td>0</td>\n",
       "      <td>LTP093</td>\n",
       "      <td>LTP093</td>\n",
       "      <td>protocols/ltp/subjects/LTP093/experiments/ltpF...</td>\n",
       "    </tr>\n",
       "    <tr>\n",
       "      <th>488</th>\n",
       "      <td>protocols/ltp/subjects/LTP093/experiments/ltpF...</td>\n",
       "      <td>ltpFR2</td>\n",
       "      <td>build</td>\n",
       "      <td>protocols/ltp/subjects/LTP093/experiments/ltpF...</td>\n",
       "      <td>1</td>\n",
       "      <td>1</td>\n",
       "      <td>LTP093</td>\n",
       "      <td>LTP093</td>\n",
       "      <td>protocols/ltp/subjects/LTP093/experiments/ltpF...</td>\n",
       "    </tr>\n",
       "    <tr>\n",
       "      <th>489</th>\n",
       "      <td>protocols/ltp/subjects/LTP093/experiments/ltpF...</td>\n",
       "      <td>ltpFR2</td>\n",
       "      <td>build</td>\n",
       "      <td>protocols/ltp/subjects/LTP093/experiments/ltpF...</td>\n",
       "      <td>10</td>\n",
       "      <td>10</td>\n",
       "      <td>LTP093</td>\n",
       "      <td>LTP093</td>\n",
       "      <td>protocols/ltp/subjects/LTP093/experiments/ltpF...</td>\n",
       "    </tr>\n",
       "    <tr>\n",
       "      <th>490</th>\n",
       "      <td>protocols/ltp/subjects/LTP093/experiments/ltpF...</td>\n",
       "      <td>ltpFR2</td>\n",
       "      <td>build</td>\n",
       "      <td>protocols/ltp/subjects/LTP093/experiments/ltpF...</td>\n",
       "      <td>11</td>\n",
       "      <td>11</td>\n",
       "      <td>LTP093</td>\n",
       "      <td>LTP093</td>\n",
       "      <td>protocols/ltp/subjects/LTP093/experiments/ltpF...</td>\n",
       "    </tr>\n",
       "    <tr>\n",
       "      <th>491</th>\n",
       "      <td>protocols/ltp/subjects/LTP093/experiments/ltpF...</td>\n",
       "      <td>ltpFR2</td>\n",
       "      <td>build</td>\n",
       "      <td>protocols/ltp/subjects/LTP093/experiments/ltpF...</td>\n",
       "      <td>12</td>\n",
       "      <td>12</td>\n",
       "      <td>LTP093</td>\n",
       "      <td>LTP093</td>\n",
       "      <td>protocols/ltp/subjects/LTP093/experiments/ltpF...</td>\n",
       "    </tr>\n",
       "    <tr>\n",
       "      <th>...</th>\n",
       "      <td>...</td>\n",
       "      <td>...</td>\n",
       "      <td>...</td>\n",
       "      <td>...</td>\n",
       "      <td>...</td>\n",
       "      <td>...</td>\n",
       "      <td>...</td>\n",
       "      <td>...</td>\n",
       "      <td>...</td>\n",
       "    </tr>\n",
       "    <tr>\n",
       "      <th>6526</th>\n",
       "      <td>protocols/ltp/subjects/LTP393/experiments/ltpF...</td>\n",
       "      <td>ltpFR2</td>\n",
       "      <td>build</td>\n",
       "      <td>protocols/ltp/subjects/LTP393/experiments/ltpF...</td>\n",
       "      <td>5</td>\n",
       "      <td>5</td>\n",
       "      <td>LTP393</td>\n",
       "      <td>LTP393</td>\n",
       "      <td>protocols/ltp/subjects/LTP393/experiments/ltpF...</td>\n",
       "    </tr>\n",
       "    <tr>\n",
       "      <th>6527</th>\n",
       "      <td>protocols/ltp/subjects/LTP393/experiments/ltpF...</td>\n",
       "      <td>ltpFR2</td>\n",
       "      <td>build</td>\n",
       "      <td>protocols/ltp/subjects/LTP393/experiments/ltpF...</td>\n",
       "      <td>6</td>\n",
       "      <td>6</td>\n",
       "      <td>LTP393</td>\n",
       "      <td>LTP393</td>\n",
       "      <td>protocols/ltp/subjects/LTP393/experiments/ltpF...</td>\n",
       "    </tr>\n",
       "    <tr>\n",
       "      <th>6528</th>\n",
       "      <td>protocols/ltp/subjects/LTP393/experiments/ltpF...</td>\n",
       "      <td>ltpFR2</td>\n",
       "      <td>build</td>\n",
       "      <td>protocols/ltp/subjects/LTP393/experiments/ltpF...</td>\n",
       "      <td>7</td>\n",
       "      <td>7</td>\n",
       "      <td>LTP393</td>\n",
       "      <td>LTP393</td>\n",
       "      <td>protocols/ltp/subjects/LTP393/experiments/ltpF...</td>\n",
       "    </tr>\n",
       "    <tr>\n",
       "      <th>6529</th>\n",
       "      <td>protocols/ltp/subjects/LTP393/experiments/ltpF...</td>\n",
       "      <td>ltpFR2</td>\n",
       "      <td>build</td>\n",
       "      <td>protocols/ltp/subjects/LTP393/experiments/ltpF...</td>\n",
       "      <td>8</td>\n",
       "      <td>8</td>\n",
       "      <td>LTP393</td>\n",
       "      <td>LTP393</td>\n",
       "      <td>protocols/ltp/subjects/LTP393/experiments/ltpF...</td>\n",
       "    </tr>\n",
       "    <tr>\n",
       "      <th>6530</th>\n",
       "      <td>protocols/ltp/subjects/LTP393/experiments/ltpF...</td>\n",
       "      <td>ltpFR2</td>\n",
       "      <td>build</td>\n",
       "      <td>protocols/ltp/subjects/LTP393/experiments/ltpF...</td>\n",
       "      <td>9</td>\n",
       "      <td>9</td>\n",
       "      <td>LTP393</td>\n",
       "      <td>LTP393</td>\n",
       "      <td>protocols/ltp/subjects/LTP393/experiments/ltpF...</td>\n",
       "    </tr>\n",
       "  </tbody>\n",
       "</table>\n",
       "<p>2375 rows × 9 columns</p>\n",
       "</div>"
      ],
      "text/plain": [
       "                                             all_events experiment  \\\n",
       "487   protocols/ltp/subjects/LTP093/experiments/ltpF...     ltpFR2   \n",
       "488   protocols/ltp/subjects/LTP093/experiments/ltpF...     ltpFR2   \n",
       "489   protocols/ltp/subjects/LTP093/experiments/ltpF...     ltpFR2   \n",
       "490   protocols/ltp/subjects/LTP093/experiments/ltpF...     ltpFR2   \n",
       "491   protocols/ltp/subjects/LTP093/experiments/ltpF...     ltpFR2   \n",
       "...                                                 ...        ...   \n",
       "6526  protocols/ltp/subjects/LTP393/experiments/ltpF...     ltpFR2   \n",
       "6527  protocols/ltp/subjects/LTP393/experiments/ltpF...     ltpFR2   \n",
       "6528  protocols/ltp/subjects/LTP393/experiments/ltpF...     ltpFR2   \n",
       "6529  protocols/ltp/subjects/LTP393/experiments/ltpF...     ltpFR2   \n",
       "6530  protocols/ltp/subjects/LTP393/experiments/ltpF...     ltpFR2   \n",
       "\n",
       "     import_type                                        math_events  \\\n",
       "487        build  protocols/ltp/subjects/LTP093/experiments/ltpF...   \n",
       "488        build  protocols/ltp/subjects/LTP093/experiments/ltpF...   \n",
       "489        build  protocols/ltp/subjects/LTP093/experiments/ltpF...   \n",
       "490        build  protocols/ltp/subjects/LTP093/experiments/ltpF...   \n",
       "491        build  protocols/ltp/subjects/LTP093/experiments/ltpF...   \n",
       "...          ...                                                ...   \n",
       "6526       build  protocols/ltp/subjects/LTP393/experiments/ltpF...   \n",
       "6527       build  protocols/ltp/subjects/LTP393/experiments/ltpF...   \n",
       "6528       build  protocols/ltp/subjects/LTP393/experiments/ltpF...   \n",
       "6529       build  protocols/ltp/subjects/LTP393/experiments/ltpF...   \n",
       "6530       build  protocols/ltp/subjects/LTP393/experiments/ltpF...   \n",
       "\n",
       "     original_session  session subject subject_alias  \\\n",
       "487                 0        0  LTP093        LTP093   \n",
       "488                 1        1  LTP093        LTP093   \n",
       "489                10       10  LTP093        LTP093   \n",
       "490                11       11  LTP093        LTP093   \n",
       "491                12       12  LTP093        LTP093   \n",
       "...               ...      ...     ...           ...   \n",
       "6526                5        5  LTP393        LTP393   \n",
       "6527                6        6  LTP393        LTP393   \n",
       "6528                7        7  LTP393        LTP393   \n",
       "6529                8        8  LTP393        LTP393   \n",
       "6530                9        9  LTP393        LTP393   \n",
       "\n",
       "                                            task_events  \n",
       "487   protocols/ltp/subjects/LTP093/experiments/ltpF...  \n",
       "488   protocols/ltp/subjects/LTP093/experiments/ltpF...  \n",
       "489   protocols/ltp/subjects/LTP093/experiments/ltpF...  \n",
       "490   protocols/ltp/subjects/LTP093/experiments/ltpF...  \n",
       "491   protocols/ltp/subjects/LTP093/experiments/ltpF...  \n",
       "...                                                 ...  \n",
       "6526  protocols/ltp/subjects/LTP393/experiments/ltpF...  \n",
       "6527  protocols/ltp/subjects/LTP393/experiments/ltpF...  \n",
       "6528  protocols/ltp/subjects/LTP393/experiments/ltpF...  \n",
       "6529  protocols/ltp/subjects/LTP393/experiments/ltpF...  \n",
       "6530  protocols/ltp/subjects/LTP393/experiments/ltpF...  \n",
       "\n",
       "[2375 rows x 9 columns]"
      ]
     },
     "execution_count": 2,
     "metadata": {},
     "output_type": "execute_result"
    }
   ],
   "source": [
    "df = cml.get_data_index('ltp')\n",
    "df_select = df[(df.experiment == 'ltpFR2') & (df.session != 23)]\n",
    "df_select"
   ]
  },
  {
   "cell_type": "code",
   "execution_count": 6,
   "id": "9b8e9647-c885-4f3a-94f5-d00fda405a12",
   "metadata": {},
   "outputs": [],
   "source": [
    "def find_all_words(df_select):\n",
    "    all_words = []\n",
    "    for _, row in tqdm(df_select.iterrows()):\n",
    "        reader = cml.CMLReader(row.subject, row.experiment, row.session)\n",
    "\n",
    "        try:\n",
    "            evs = reader.load('events')\n",
    "\n",
    "            # select encoding and recall events\n",
    "            evs = evs[evs['type'].isin(['WORD', 'REC_WORD'])][['type', 'item_name']]\n",
    "            words = evs.drop_duplicates(subset='item_name')\n",
    "\n",
    "            all_words.append(words)\n",
    "\n",
    "        except BaseException as e:\n",
    "            continue\n",
    "            \n",
    "    return pd.concat(all_words, ignore_index=True).drop_duplicates(subset='item_name').reset_index(drop=True)"
   ]
  },
  {
   "cell_type": "code",
   "execution_count": 7,
   "id": "cfe520d1-932b-4021-ad8f-7f17b1c78f5d",
   "metadata": {},
   "outputs": [
    {
     "data": {
      "application/vnd.jupyter.widget-view+json": {
       "model_id": "e9b300a53d504c2bafad496d717adea1",
       "version_major": 2,
       "version_minor": 0
      },
      "text/plain": [
       "0it [00:00, ?it/s]"
      ]
     },
     "metadata": {},
     "output_type": "display_data"
    }
   ],
   "source": [
    "all_words = find_all_words(df_select)"
   ]
  },
  {
   "cell_type": "code",
   "execution_count": 8,
   "id": "2db1148f-59e0-479d-90b4-ce45962629dc",
   "metadata": {},
   "outputs": [],
   "source": [
    "def build_dictionary(all_words):\n",
    "    # load in the CMU Pronouncing Dictionary\n",
    "    pronouncing_dict = cmudict.dict()\n",
    "\n",
    "    pronouncing_cml = {}\n",
    "    manual_add = []\n",
    "    for _, row in tqdm(all_words.iterrows()):\n",
    "        phonemes = pronouncing_dict.get(row.item_name.lower(), None)\n",
    "        if phonemes:\n",
    "            pronouncing_cml[row.item_name.upper()] = phonemes\n",
    "        elif row.type == 'WORD':\n",
    "            manual_add.append(row.item_name.upper())\n",
    "            \n",
    "    return pronouncing_cml, np.sort(manual_add)"
   ]
  },
  {
   "cell_type": "code",
   "execution_count": 9,
   "id": "cdfecf20-4954-49a5-8143-2cf3e9aae04c",
   "metadata": {},
   "outputs": [
    {
     "data": {
      "application/vnd.jupyter.widget-view+json": {
       "model_id": "bec23c9889814b7e93410f8f8808f1f5",
       "version_major": 2,
       "version_minor": 0
      },
      "text/plain": [
       "0it [00:00, ?it/s]"
      ]
     },
     "metadata": {},
     "output_type": "display_data"
    },
    {
     "data": {
      "text/plain": [
       "array(['CHIPMUNK', 'DUSTPAN', 'NIGHTGOWN'], dtype='<U9')"
      ]
     },
     "execution_count": 9,
     "metadata": {},
     "output_type": "execute_result"
    }
   ],
   "source": [
    "pronouncing_cml, manual_add = build_dictionary(all_words)\n",
    "manual_add"
   ]
  },
  {
   "cell_type": "markdown",
   "id": "e41a86ad-8abe-4399-aeed-f74a978d1d00",
   "metadata": {},
   "source": [
    "#### Manual Inclusions\n",
    "\n",
    "\"Chipmunk\", \"Dustpan\", \"Nightgown\" in ltpFR2 wordpool, don't have phoneme breakdowns."
   ]
  },
  {
   "cell_type": "code",
   "execution_count": 10,
   "id": "1d376ace-3551-44f8-946d-9309e90fea00",
   "metadata": {},
   "outputs": [],
   "source": [
    "# load in the CMU Pronouncing Dictionary\n",
    "pronouncing_dict = cmudict.dict()"
   ]
  },
  {
   "cell_type": "code",
   "execution_count": 11,
   "id": "a6711bc9-849b-4f5a-8f3a-008c3a978eb3",
   "metadata": {},
   "outputs": [
    {
     "data": {
      "text/plain": [
       "([['CH', 'IH1', 'P']], [['M', 'AH1', 'NG', 'K']])"
      ]
     },
     "execution_count": 11,
     "metadata": {},
     "output_type": "execute_result"
    }
   ],
   "source": [
    "pronouncing_dict.get('chip'), pronouncing_dict.get('munk')"
   ]
  },
  {
   "cell_type": "code",
   "execution_count": 12,
   "id": "354fee5b-a756-4198-a45b-d4b5c7852fc3",
   "metadata": {},
   "outputs": [],
   "source": [
    "pronouncing_cml['CHIPMUNK'] = [['CH', 'IH1', 'P', 'M', 'AH1', 'NG', 'K']]"
   ]
  },
  {
   "cell_type": "code",
   "execution_count": 13,
   "id": "3dcca432-8ff5-4ae0-a441-61e4ad52502f",
   "metadata": {},
   "outputs": [
    {
     "data": {
      "text/plain": [
       "([['D', 'AH1', 'S', 'T']], [['P', 'AE1', 'N']])"
      ]
     },
     "execution_count": 13,
     "metadata": {},
     "output_type": "execute_result"
    }
   ],
   "source": [
    "pronouncing_dict.get('dust'), pronouncing_dict.get('pan')"
   ]
  },
  {
   "cell_type": "code",
   "execution_count": 14,
   "id": "be5a45ed-7858-4271-a948-05adf50a8373",
   "metadata": {},
   "outputs": [],
   "source": [
    "pronouncing_cml['DUSTPAN'] = [['D', 'AH1', 'S', 'T', 'P', 'AE1', 'N']]"
   ]
  },
  {
   "cell_type": "code",
   "execution_count": 15,
   "id": "93f7e595-e614-4666-9551-7a5fd9665d69",
   "metadata": {},
   "outputs": [
    {
     "data": {
      "text/plain": [
       "([['N', 'AY1', 'T']], [['G', 'AW1', 'N']])"
      ]
     },
     "execution_count": 15,
     "metadata": {},
     "output_type": "execute_result"
    }
   ],
   "source": [
    "pronouncing_dict.get('night'), pronouncing_dict.get('gown')"
   ]
  },
  {
   "cell_type": "code",
   "execution_count": 16,
   "id": "a17e012b-42d2-4f5c-b13a-e81c253b8026",
   "metadata": {},
   "outputs": [],
   "source": [
    "pronouncing_cml['NIGHTGOWN'] = [['N', 'AY1', 'T', 'G', 'AW1', 'N']]"
   ]
  },
  {
   "cell_type": "code",
   "execution_count": 18,
   "id": "238cce6c-c450-4061-a9a4-0ba9df534323",
   "metadata": {},
   "outputs": [],
   "source": [
    "with open('pronouncing_cml.json', 'w') as f:\n",
    "    json.dump(pronouncing_cml, f)"
   ]
  },
  {
   "cell_type": "markdown",
   "id": "7d5543e1-5ea0-4c2d-af74-228043ca2728",
   "metadata": {},
   "source": [
    "#### Examples for Paper"
   ]
  },
  {
   "cell_type": "code",
   "execution_count": 23,
   "id": "339f7309-984e-4d74-8b29-670d91cc42b8",
   "metadata": {},
   "outputs": [
    {
     "name": "stdout",
     "output_type": "stream",
     "text": [
      "[['SH', 'AA1', 'R', 'K']] [['SH', 'OW1', 'L', 'D', 'ER0']]\n"
     ]
    },
    {
     "data": {
      "text/plain": [
       "(0.125, {'SH'}, {'AA1', 'D', 'ER0', 'K', 'L', 'OW1', 'R', 'SH'})"
      ]
     },
     "execution_count": 23,
     "metadata": {},
     "output_type": "execute_result"
    }
   ],
   "source": [
    "# alliterative = same 1st phoneme\n",
    "shark = pronouncing_cml.get('SHARK')\n",
    "shoulder = pronouncing_cml.get('SHOULDER')\n",
    "print(shark, shoulder)\n",
    "\n",
    "p1 = set(shark[0])\n",
    "p2 = set(shoulder[0])\n",
    "\n",
    "len(set.intersection(p1, p2)) / len(set.union(p1, p2)), set.intersection(p1, p2), set.union(p1, p2)"
   ]
  },
  {
   "cell_type": "markdown",
   "id": "62799a26-0cae-4152-9d7d-489e4b4c447a",
   "metadata": {},
   "source": [
    "#### Rhyme"
   ]
  },
  {
   "cell_type": "code",
   "execution_count": 44,
   "id": "dee96dea-98de-47bf-b88c-39678c15c485",
   "metadata": {},
   "outputs": [
    {
     "name": "stdout",
     "output_type": "stream",
     "text": [
      "[['P', 'AE1', 'L', 'AH0', 'S']] [['W', 'EY1', 'T', 'R', 'AH0', 'S']]\n"
     ]
    },
    {
     "data": {
      "text/plain": [
       "(0.2222222222222222,\n",
       " {'AH0', 'S'},\n",
       " {'AE1', 'AH0', 'EY1', 'L', 'P', 'R', 'S', 'T', 'W'})"
      ]
     },
     "execution_count": 44,
     "metadata": {},
     "output_type": "execute_result"
    }
   ],
   "source": [
    "# rhyme = same last 2 phonemes\n",
    "palace = pronouncing_cml.get('PALACE')\n",
    "waitress = pronouncing_cml.get('WAITRESS')\n",
    "print(palace, waitress)\n",
    "\n",
    "p1 = set(palace[0])\n",
    "p2 = set(waitress[0])\n",
    "\n",
    "len(set.intersection(p1, p2)) / len(set.union(p1, p2)), set.intersection(p1, p2), set.union(p1, p2)"
   ]
  },
  {
   "cell_type": "markdown",
   "id": "564480bd-5ea3-497a-97e0-4d4728d12bba",
   "metadata": {},
   "source": [
    "#### Middle"
   ]
  },
  {
   "cell_type": "code",
   "execution_count": 3,
   "id": "f72aeafb-594a-44db-8a60-1dca7f26827b",
   "metadata": {},
   "outputs": [
    {
     "name": "stdout",
     "output_type": "stream",
     "text": [
      "[['D', 'OW1', 'N', 'AH2', 'T']] [['N', 'OW1', 'T', 'B', 'UH2', 'K']]\n"
     ]
    },
    {
     "data": {
      "text/plain": [
       "(0.375, {'N', 'OW1', 'T'}, {'AH2', 'B', 'D', 'K', 'N', 'OW1', 'T', 'UH2'})"
      ]
     },
     "execution_count": 3,
     "metadata": {},
     "output_type": "execute_result"
    }
   ],
   "source": [
    "doughnut = pronouncing_cml.get('DOUGHNUT')\n",
    "notebook = pronouncing_cml.get('NOTEBOOK')\n",
    "print(doughnut, notebook)\n",
    "\n",
    "p1 = set(doughnut[0])\n",
    "p2 = set(notebook[0])\n",
    "\n",
    "len(set.intersection(p1, p2)) / len(set.union(p1, p2)), set.intersection(p1, p2), set.union(p1, p2)"
   ]
  }
 ],
 "metadata": {
  "kernelspec": {
   "display_name": "bids",
   "language": "python",
   "name": "bids"
  },
  "language_info": {
   "codemirror_mode": {
    "name": "ipython",
    "version": 3
   },
   "file_extension": ".py",
   "mimetype": "text/x-python",
   "name": "python",
   "nbconvert_exporter": "python",
   "pygments_lexer": "ipython3",
   "version": "3.11.4"
  }
 },
 "nbformat": 4,
 "nbformat_minor": 5
}
