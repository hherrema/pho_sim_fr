{
 "cells": [
  {
   "cell_type": "markdown",
   "id": "522cb096-fc68-410d-bd7b-70ae710c64e4",
   "metadata": {},
   "source": [
    "## Pronouncing Dictionaries\n",
    "\n",
    "Map all encoded and recalled words to phoneme breakdown."
   ]
  },
  {
   "cell_type": "code",
   "execution_count": 53,
   "id": "e7e78c81-de57-410d-8515-bc7d2e83651b",
   "metadata": {},
   "outputs": [
    {
     "name": "stderr",
     "output_type": "stream",
     "text": [
      "[nltk_data] Downloading package cmudict to\n",
      "[nltk_data]     /home1/hherrema/nltk_data...\n",
      "[nltk_data]   Package cmudict is already up-to-date!\n"
     ]
    },
    {
     "data": {
      "text/plain": [
       "True"
      ]
     },
     "execution_count": 53,
     "metadata": {},
     "output_type": "execute_result"
    }
   ],
   "source": [
    "# imports\n",
    "import cmlreaders as cml\n",
    "import numpy as np\n",
    "import pandas as pd; pd.set_option('display.max_columns', None)\n",
    "import json\n",
    "from tqdm.notebook import tqdm\n",
    "import warnings; warnings.filterwarnings(\"ignore\")\n",
    "import nltk\n",
    "from nltk.corpus import cmudict\n",
    "\n",
    "# download CMU Pronouncing Dictionary\n",
    "nltk.download('cmudict')"
   ]
  },
  {
   "cell_type": "code",
   "execution_count": 54,
   "id": "daaa0a5e-15a5-4ff3-b7af-319b274ab602",
   "metadata": {},
   "outputs": [],
   "source": [
    "def find_all_words(df_select):\n",
    "    all_words = []\n",
    "    for _, row in tqdm(df_select.iterrows()):\n",
    "        reader = cml.CMLReader(row.subject, row.experiment, row.session, row.localization, row.montage)\n",
    "\n",
    "        try:\n",
    "            evs = reader.load('events')\n",
    "\n",
    "            # select encoding and recall events\n",
    "            evs = evs[evs['type'].isin(['WORD', 'REC_WORD'])]\n",
    "\n",
    "            if row.experiment == 'pyFR':\n",
    "                words = evs['item'].unique()\n",
    "            else:\n",
    "                words = evs['item_name'].unique()\n",
    "\n",
    "            all_words.extend(list(words))\n",
    "\n",
    "        except BaseException as e:\n",
    "            continue\n",
    "\n",
    "    return np.unique(all_words)"
   ]
  },
  {
   "cell_type": "code",
   "execution_count": 55,
   "id": "11356f52-1aa1-4522-85bf-02eea1b82565",
   "metadata": {},
   "outputs": [],
   "source": [
    "def build_dictionary(all_words):\n",
    "    # load in the CMU Pronouncing Dictionary\n",
    "    pronouncing_dict = cmudict.dict()\n",
    "    \n",
    "    pronouncing_cml = {}\n",
    "    for word in tqdm(all_words):\n",
    "        phonemes = pronouncing_dict.get(word.lower(), None)\n",
    "        if phonemes:\n",
    "            pronouncing_cml[word.upper()] = phonemes\n",
    "            \n",
    "    return pronouncing_cml"
   ]
  },
  {
   "cell_type": "code",
   "execution_count": 56,
   "id": "b39ae07f-710e-441b-ab31-e9b49208b32c",
   "metadata": {},
   "outputs": [],
   "source": [
    "df = cml.get_data_index()\n",
    "\n",
    "df_intrac = df[df.experiment.isin(['FR1', 'pyFR', 'IFR1'])]\n",
    "df_scalp = df[(df['experiment'] == 'ltpFR2') & (df['session'] != 23)]\n",
    "\n",
    "df_select = pd.concat([df_intrac, df_scalp], ignore_index=True)"
   ]
  },
  {
   "cell_type": "code",
   "execution_count": 57,
   "id": "cfe520d1-932b-4021-ad8f-7f17b1c78f5d",
   "metadata": {},
   "outputs": [
    {
     "data": {
      "application/vnd.jupyter.widget-view+json": {
       "model_id": "0170d8dddbc54a65be8b5deeb1cafbb6",
       "version_major": 2,
       "version_minor": 0
      },
      "text/plain": [
       "0it [00:00, ?it/s]"
      ]
     },
     "metadata": {},
     "output_type": "display_data"
    }
   ],
   "source": [
    "all_words = find_all_words(df_select)"
   ]
  },
  {
   "cell_type": "code",
   "execution_count": 58,
   "id": "cdfecf20-4954-49a5-8143-2cf3e9aae04c",
   "metadata": {},
   "outputs": [
    {
     "data": {
      "application/vnd.jupyter.widget-view+json": {
       "model_id": "abdf73c5213b43f8b31fdc9551e2df0f",
       "version_major": 2,
       "version_minor": 0
      },
      "text/plain": [
       "  0%|          | 0/4594 [00:00<?, ?it/s]"
      ]
     },
     "metadata": {},
     "output_type": "display_data"
    }
   ],
   "source": [
    "pronouncing_cml = build_dictionary(all_words)"
   ]
  },
  {
   "cell_type": "markdown",
   "id": "e41a86ad-8abe-4399-aeed-f74a978d1d00",
   "metadata": {},
   "source": [
    "#### Manual Inclusions\n",
    "\n",
    "\"Chipmunk\", \"Dustpan\", \"Nightgown\" in ltpFR2 wordpool, don't have phoneme breakdowns."
   ]
  },
  {
   "cell_type": "code",
   "execution_count": 59,
   "id": "a9d809b8-e0df-43d5-b444-63ee7946339e",
   "metadata": {},
   "outputs": [
    {
     "data": {
      "text/plain": [
       "[False, False, False]"
      ]
     },
     "execution_count": 59,
     "metadata": {},
     "output_type": "execute_result"
    }
   ],
   "source": [
    "[x in pronouncing_cml for x in ['CHIPMUNK', 'DUSTPAN', 'NIGHTGOWN']]"
   ]
  },
  {
   "cell_type": "code",
   "execution_count": 60,
   "id": "1d376ace-3551-44f8-946d-9309e90fea00",
   "metadata": {},
   "outputs": [],
   "source": [
    "# load in the CMU Pronouncing Dictionary\n",
    "pronouncing_dict = cmudict.dict()"
   ]
  },
  {
   "cell_type": "code",
   "execution_count": 61,
   "id": "a6711bc9-849b-4f5a-8f3a-008c3a978eb3",
   "metadata": {},
   "outputs": [
    {
     "data": {
      "text/plain": [
       "([['CH', 'IH1', 'P']], [['M', 'AH1', 'NG', 'K']])"
      ]
     },
     "execution_count": 61,
     "metadata": {},
     "output_type": "execute_result"
    }
   ],
   "source": [
    "pronouncing_dict.get('chip'), pronouncing_dict.get('munk')"
   ]
  },
  {
   "cell_type": "code",
   "execution_count": 62,
   "id": "354fee5b-a756-4198-a45b-d4b5c7852fc3",
   "metadata": {},
   "outputs": [],
   "source": [
    "pronouncing_cml['CHIPMUNK'] = [['CH', 'IH1', 'P', 'M', 'AH1', 'NG', 'K']]"
   ]
  },
  {
   "cell_type": "code",
   "execution_count": 63,
   "id": "3dcca432-8ff5-4ae0-a441-61e4ad52502f",
   "metadata": {},
   "outputs": [
    {
     "data": {
      "text/plain": [
       "([['D', 'AH1', 'S', 'T']], [['P', 'AE1', 'N']])"
      ]
     },
     "execution_count": 63,
     "metadata": {},
     "output_type": "execute_result"
    }
   ],
   "source": [
    "pronouncing_dict.get('dust'), pronouncing_dict.get('pan')"
   ]
  },
  {
   "cell_type": "code",
   "execution_count": 64,
   "id": "be5a45ed-7858-4271-a948-05adf50a8373",
   "metadata": {},
   "outputs": [],
   "source": [
    "pronouncing_cml['DUSTPAN'] = [['D', 'AH1', 'S', 'T', 'P', 'AE1', 'N']]"
   ]
  },
  {
   "cell_type": "code",
   "execution_count": 65,
   "id": "93f7e595-e614-4666-9551-7a5fd9665d69",
   "metadata": {},
   "outputs": [
    {
     "data": {
      "text/plain": [
       "([['N', 'AY1', 'T']], [['G', 'AW1', 'N']])"
      ]
     },
     "execution_count": 65,
     "metadata": {},
     "output_type": "execute_result"
    }
   ],
   "source": [
    "pronouncing_dict.get('night'), pronouncing_dict.get('gown')"
   ]
  },
  {
   "cell_type": "code",
   "execution_count": 66,
   "id": "a17e012b-42d2-4f5c-b13a-e81c253b8026",
   "metadata": {},
   "outputs": [],
   "source": [
    "pronouncing_cml['NIGHTGOWN'] = [['N', 'AY1', 'T', 'G', 'AW1', 'N']]"
   ]
  },
  {
   "cell_type": "code",
   "execution_count": 67,
   "id": "238cce6c-c450-4061-a9a4-0ba9df534323",
   "metadata": {},
   "outputs": [],
   "source": [
    "with open('pronouncing_cml.json', 'w') as f:\n",
    "    json.dump(pronouncing_cml, f)"
   ]
  }
 ],
 "metadata": {
  "kernelspec": {
   "display_name": "bids",
   "language": "python",
   "name": "bids"
  },
  "language_info": {
   "codemirror_mode": {
    "name": "ipython",
    "version": 3
   },
   "file_extension": ".py",
   "mimetype": "text/x-python",
   "name": "python",
   "nbconvert_exporter": "python",
   "pygments_lexer": "ipython3",
   "version": "3.11.4"
  }
 },
 "nbformat": 4,
 "nbformat_minor": 5
}
