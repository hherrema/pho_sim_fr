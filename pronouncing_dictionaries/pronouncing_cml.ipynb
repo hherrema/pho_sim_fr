{
 "cells": [
  {
   "cell_type": "markdown",
   "id": "522cb096-fc68-410d-bd7b-70ae710c64e4",
   "metadata": {},
   "source": [
    "## Pronouncing Dictionaries\n",
    "\n",
    "Map all encoded and recalled words to phoneme breakdown."
   ]
  },
  {
   "cell_type": "code",
   "execution_count": 12,
   "id": "e7e78c81-de57-410d-8515-bc7d2e83651b",
   "metadata": {},
   "outputs": [
    {
     "ename": "ModuleNotFoundError",
     "evalue": "No module named 'warnigns'",
     "output_type": "error",
     "traceback": [
      "\u001b[0;31m---------------------------------------------------------------------------\u001b[0m",
      "\u001b[0;31mModuleNotFoundError\u001b[0m                       Traceback (most recent call last)",
      "Cell \u001b[0;32mIn[12], line 7\u001b[0m\n\u001b[1;32m      5\u001b[0m \u001b[38;5;28;01mimport\u001b[39;00m \u001b[38;5;21;01mjson\u001b[39;00m\n\u001b[1;32m      6\u001b[0m \u001b[38;5;28;01mfrom\u001b[39;00m \u001b[38;5;21;01mtqdm\u001b[39;00m\u001b[38;5;21;01m.\u001b[39;00m\u001b[38;5;21;01mnotebook\u001b[39;00m \u001b[38;5;28;01mimport\u001b[39;00m tqdm\n\u001b[0;32m----> 7\u001b[0m \u001b[38;5;28;01mimport\u001b[39;00m \u001b[38;5;21;01mwarnigns\u001b[39;00m; warnings\u001b[38;5;241m.\u001b[39mfilterwarnings(\u001b[38;5;124m\"\u001b[39m\u001b[38;5;124mignore\u001b[39m\u001b[38;5;124m\"\u001b[39m)\n\u001b[1;32m      8\u001b[0m \u001b[38;5;28;01mimport\u001b[39;00m \u001b[38;5;21;01mnltk\u001b[39;00m\n\u001b[1;32m      9\u001b[0m \u001b[38;5;28;01mfrom\u001b[39;00m \u001b[38;5;21;01mnltk\u001b[39;00m\u001b[38;5;21;01m.\u001b[39;00m\u001b[38;5;21;01mcorpus\u001b[39;00m \u001b[38;5;28;01mimport\u001b[39;00m cmudict\n",
      "\u001b[0;31mModuleNotFoundError\u001b[0m: No module named 'warnigns'"
     ]
    }
   ],
   "source": [
    "# imports\n",
    "import cmlreaders as cml\n",
    "import numpy as np\n",
    "import pandas as pd; pd.set_option('display.max_columns', None)\n",
    "import json\n",
    "from tqdm.notebook import tqdm\n",
    "import warnings; warnings.filterwarnings(\"ignore\")\n",
    "import nltk\n",
    "from nltk.corpus import cmudict\n",
    "\n",
    "# download CMU Pronouncing Dictionary\n",
    "nltk.download('cmudict')"
   ]
  },
  {
   "cell_type": "code",
   "execution_count": 7,
   "id": "daaa0a5e-15a5-4ff3-b7af-319b274ab602",
   "metadata": {},
   "outputs": [],
   "source": [
    "def find_all_words(df_select):\n",
    "    all_words = []\n",
    "    for _, row in tqdm(df_select.iterrows()):\n",
    "        reader = cml.CMLReader(row.subject, row.experiment, row.session, row.localization, row.montage)\n",
    "\n",
    "        try:\n",
    "            evs = reader.load('events')\n",
    "\n",
    "            # select encoding and recall events\n",
    "            evs = evs[evs['type'].isin(['WORD', 'REC_WORD'])]\n",
    "\n",
    "            if row.experiment == 'pyFR':\n",
    "                words = evs['item'].unique()\n",
    "            else:\n",
    "                words = evs['item_name'].unique()\n",
    "\n",
    "            all_words.extend(list(words))\n",
    "\n",
    "        except BaseException as e:\n",
    "            continue\n",
    "\n",
    "    return np.unique(all_words)"
   ]
  },
  {
   "cell_type": "code",
   "execution_count": 8,
   "id": "11356f52-1aa1-4522-85bf-02eea1b82565",
   "metadata": {},
   "outputs": [],
   "source": [
    "def build_dictionary(all_words):\n",
    "    # load in the CMU Pronouncing Dictionary\n",
    "    pronouncing_dict = cmudict.dict()\n",
    "    \n",
    "    pronouncing_cml = {}\n",
    "    for word in tqdm(all_words):\n",
    "        phonemes = pronouncing_dict.get(word.lower(), None)\n",
    "        if phonemes:\n",
    "            pronouncing_cml[word.upper()] = phonemes\n",
    "            \n",
    "    return pronouncing_cml"
   ]
  },
  {
   "cell_type": "code",
   "execution_count": 9,
   "id": "b39ae07f-710e-441b-ab31-e9b49208b32c",
   "metadata": {},
   "outputs": [],
   "source": [
    "df = cml.get_data_index()\n",
    "\n",
    "df_intrac = df[df.experiment.isin(['FR1', 'pyFR', 'IFR1'])]\n",
    "df_scalp = df[(df['experiment'] == 'ltpFR2') & (df['session'] != 23)]\n",
    "\n",
    "df_select = pd.concat([df_intrac, df_scalp], ignore_index=True)"
   ]
  },
  {
   "cell_type": "code",
   "execution_count": 10,
   "id": "cfe520d1-932b-4021-ad8f-7f17b1c78f5d",
   "metadata": {},
   "outputs": [
    {
     "data": {
      "application/vnd.jupyter.widget-view+json": {
       "model_id": "9de8ff493ea146d396f7d0736af73d7e",
       "version_major": 2,
       "version_minor": 0
      },
      "text/plain": [
       "0it [00:00, ?it/s]"
      ]
     },
     "metadata": {},
     "output_type": "display_data"
    },
    {
     "name": "stderr",
     "output_type": "stream",
     "text": [
      "/home1/hherrema/.conda/envs/bids/lib/python3.11/site-packages/cmlreaders/readers/readers.py:272: UserWarning: Changing events session field from -999 to 10 to match data index.\n",
      "  warnings.warn(f'Changing events session field from {df[\"session\"].unique()[0]} ' +\n"
     ]
    }
   ],
   "source": [
    "all_words = find_all_words(df_select)"
   ]
  },
  {
   "cell_type": "code",
   "execution_count": 11,
   "id": "cdfecf20-4954-49a5-8143-2cf3e9aae04c",
   "metadata": {},
   "outputs": [
    {
     "data": {
      "application/vnd.jupyter.widget-view+json": {
       "model_id": "f929d2ad23f04de9a357670a554d2adf",
       "version_major": 2,
       "version_minor": 0
      },
      "text/plain": [
       "  0%|          | 0/4575 [00:00<?, ?it/s]"
      ]
     },
     "metadata": {},
     "output_type": "display_data"
    }
   ],
   "source": [
    "pronouncing_cml = build_dictionary(all_words)"
   ]
  },
  {
   "cell_type": "markdown",
   "id": "e41a86ad-8abe-4399-aeed-f74a978d1d00",
   "metadata": {},
   "source": [
    "#### Manual Inclusions\n",
    "\n",
    "\"Chipmunk\", \"Dustpan\", and \"Nightgown\" in ltpFR2 wordpool, don't have phoneme breakdowns."
   ]
  },
  {
   "cell_type": "code",
   "execution_count": 14,
   "id": "ac404f3e-9936-4db2-bc6a-6e04a05aa157",
   "metadata": {},
   "outputs": [
    {
     "data": {
      "text/plain": [
       "(False, False, False)"
      ]
     },
     "execution_count": 14,
     "metadata": {},
     "output_type": "execute_result"
    }
   ],
   "source": [
    "'CHIPMUNK' in pronouncing_cml, 'DUSTPAN' in pronouncing_cml, 'NIGHTGOWN' in pronouncing_cml"
   ]
  },
  {
   "cell_type": "code",
   "execution_count": 15,
   "id": "1d376ace-3551-44f8-946d-9309e90fea00",
   "metadata": {},
   "outputs": [],
   "source": [
    "# load in the CMU Pronouncing Dictionary\n",
    "pronouncing_dict = cmudict.dict()"
   ]
  },
  {
   "cell_type": "code",
   "execution_count": 16,
   "id": "a6711bc9-849b-4f5a-8f3a-008c3a978eb3",
   "metadata": {},
   "outputs": [
    {
     "data": {
      "text/plain": [
       "([['CH', 'IH1', 'P']], [['M', 'AH1', 'NG', 'K']])"
      ]
     },
     "execution_count": 16,
     "metadata": {},
     "output_type": "execute_result"
    }
   ],
   "source": [
    "pronouncing_dict.get('chip'), pronouncing_dict.get('munk')"
   ]
  },
  {
   "cell_type": "code",
   "execution_count": 20,
   "id": "354fee5b-a756-4198-a45b-d4b5c7852fc3",
   "metadata": {},
   "outputs": [],
   "source": [
    "pronouncing_cml['CHIPMUNK'] = [['CH', 'IH1', 'P', 'M', 'AH1', 'NG', 'K']]"
   ]
  },
  {
   "cell_type": "code",
   "execution_count": 21,
   "id": "3dcca432-8ff5-4ae0-a441-61e4ad52502f",
   "metadata": {},
   "outputs": [
    {
     "data": {
      "text/plain": [
       "([['D', 'AH1', 'S', 'T']], [['P', 'AE1', 'N']])"
      ]
     },
     "execution_count": 21,
     "metadata": {},
     "output_type": "execute_result"
    }
   ],
   "source": [
    "pronouncing_dict.get('dust'), pronouncing_dict.get('pan')"
   ]
  },
  {
   "cell_type": "code",
   "execution_count": 22,
   "id": "be5a45ed-7858-4271-a948-05adf50a8373",
   "metadata": {},
   "outputs": [],
   "source": [
    "pronouncing_cml['DUSTPAN'] = [['D', 'AH1', 'S', 'T', 'P', 'AE1', 'N']]"
   ]
  },
  {
   "cell_type": "code",
   "execution_count": 23,
   "id": "93f7e595-e614-4666-9551-7a5fd9665d69",
   "metadata": {},
   "outputs": [
    {
     "data": {
      "text/plain": [
       "([['N', 'AY1', 'T']], [['G', 'AW1', 'N']])"
      ]
     },
     "execution_count": 23,
     "metadata": {},
     "output_type": "execute_result"
    }
   ],
   "source": [
    "pronouncing_dict.get('night'), pronouncing_dict.get('gown')"
   ]
  },
  {
   "cell_type": "code",
   "execution_count": 24,
   "id": "a17e012b-42d2-4f5c-b13a-e81c253b8026",
   "metadata": {},
   "outputs": [],
   "source": [
    "pronouncing_cml['NIGHTGOWN'] = [['N', 'AY1', 'T', 'G', 'AW1', 'N']]"
   ]
  },
  {
   "cell_type": "code",
   "execution_count": 26,
   "id": "238cce6c-c450-4061-a9a4-0ba9df534323",
   "metadata": {},
   "outputs": [],
   "source": [
    "with open('pronouncing_cml.json', 'w') as f:\n",
    "    json.dump(pronouncing_cml, f)"
   ]
  }
 ],
 "metadata": {
  "kernelspec": {
   "display_name": "bids",
   "language": "python",
   "name": "bids"
  },
  "language_info": {
   "codemirror_mode": {
    "name": "ipython",
    "version": 3
   },
   "file_extension": ".py",
   "mimetype": "text/x-python",
   "name": "python",
   "nbconvert_exporter": "python",
   "pygments_lexer": "ipython3",
   "version": "3.11.4"
  }
 },
 "nbformat": 4,
 "nbformat_minor": 5
}
