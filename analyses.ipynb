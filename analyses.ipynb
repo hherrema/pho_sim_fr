{
 "cells": [
  {
   "cell_type": "markdown",
   "id": "96705a6a-6cf8-4366-8c43-e66b6a50aa33",
   "metadata": {},
   "source": [
    "## Analyses"
   ]
  },
  {
   "cell_type": "code",
   "execution_count": 1,
   "id": "d9557571-63fd-439f-b2d0-417153b1afa4",
   "metadata": {},
   "outputs": [
    {
     "name": "stderr",
     "output_type": "stream",
     "text": [
      "[nltk_data] Downloading package cmudict to\n",
      "[nltk_data]     /home1/hherrema/nltk_data...\n",
      "[nltk_data]   Package cmudict is already up-to-date!\n"
     ]
    }
   ],
   "source": [
    "# imports\n",
    "import numpy as np\n",
    "import pandas as pd; pd.set_option('display.max_columns', None)\n",
    "import cmlreaders as cml\n",
    "from analyses import analyses\n",
    "import warnings; warnings.filterwarnings(\"ignore\")"
   ]
  },
  {
   "cell_type": "code",
   "execution_count": 2,
   "id": "6ed50318-900c-4eb3-b613-509fda0115d4",
   "metadata": {},
   "outputs": [],
   "source": [
    "df = cml.get_data_index('ltp')\n",
    "df_select = df[(df.experiment == 'ltpFR2') & (df.session != 23)]"
   ]
  },
  {
   "cell_type": "markdown",
   "id": "b7d56d07-9ae6-44a3-b6bf-8a5defb4a12b",
   "metadata": {},
   "source": [
    "#### Storing Results"
   ]
  },
  {
   "cell_type": "code",
   "execution_count": 3,
   "id": "5cfc7e06-1203-4663-b459-82d5aa3ccf13",
   "metadata": {},
   "outputs": [],
   "source": [
    "def store_results_v1(data_tr_lst, data_sess, data_sub, nom, tr_lst_toggle, idx=''):\n",
    "    if tr_lst_toggle:    # trial level\n",
    "        data_tr_lst.to_csv(f'analyses/dataframes/{nom}_H{idx}_data_tr.csv', index=False)\n",
    "    else:                # list level\n",
    "        data_tr_lst.to_csv(f'analyses/dataframes/{nom}_H{idx}_data_lst.csv', index=False)\n",
    "    \n",
    "    # session level\n",
    "    data_sess.to_csv(f'analyses/dataframes/{nom}_H{idx}_data.csv', index=False)\n",
    "    \n",
    "    # subject level (between-subject average)\n",
    "    data_sub.to_csv(f'analyses/dataframes/{nom}_H{idx}_data_bsa.csv', index=False)"
   ]
  },
  {
   "cell_type": "code",
   "execution_count": 4,
   "id": "cd73fc55-4c93-4d5a-aa1e-8bd4188eabff",
   "metadata": {},
   "outputs": [],
   "source": [
    "def store_results_v2(data_tr_lst, data_sess, data_sub, nom, idx, tr_lst_toggle):\n",
    "    if idx not in ['J', 'JFL']:\n",
    "        raise ValueError(f'{idx} not a valid index.')\n",
    "    \n",
    "    if tr_lst_toggle:    # trial level\n",
    "        data_tr_lst.to_csv(f'analyses/dataframes/{nom}_{idx}_data_tr.csv', index=False)\n",
    "    else:                # list level\n",
    "        data_tr_lst.to_csv(f'analyses/dataframes/{nom}_{idx}_data_lst.csv', index=False)\n",
    "    \n",
    "    # session level\n",
    "    data_sess.to_csv(f'analyses/dataframes/{nom}_{idx}_data.csv', index=False)\n",
    "    \n",
    "    # subject level (between-subject average)\n",
    "    data_sub.to_csv(f'analyses/dataframes/{nom}_{idx}_data_bsa.csv', index=False)"
   ]
  },
  {
   "cell_type": "markdown",
   "id": "4c1ccbf6-7bf7-4385-b6f5-0051586b47e6",
   "metadata": {},
   "source": [
    "#### Parallel Computing"
   ]
  },
  {
   "cell_type": "code",
   "execution_count": 5,
   "id": "12329d4f-1642-47d1-a102-fc07cd9ec033",
   "metadata": {},
   "outputs": [
    {
     "name": "stdout",
     "output_type": "stream",
     "text": [
      "Unique port for hherrema is 51465\n",
      "{'dashboard_address': ':51465'}\n",
      "To view the dashboard, run: \n",
      "`ssh -fN hherrema@rhino2.psych.upenn.edu -L 8000:192.168.86.107:51465` in your local computer's terminal (NOT rhino) \n",
      "and then navigate to localhost:8000 in your browser\n"
     ]
    }
   ],
   "source": [
    "client = analyses.create_client('pcs', '15GB', 200)"
   ]
  },
  {
   "cell_type": "code",
   "execution_count": 6,
   "id": "22dd2a9f-a549-4a87-89c1-ec0c717f634f",
   "metadata": {},
   "outputs": [],
   "source": [
    "sub_iter, exp_iter, sess_iter = analyses.build_iterables(df_select)"
   ]
  },
  {
   "cell_type": "code",
   "execution_count": 20,
   "id": "0167b7e7-2dc1-477d-9793-ca93ae3e64a4",
   "metadata": {},
   "outputs": [
    {
     "data": {
      "text/plain": [
       "<bound method Client.shutdown of <Client: 'tcp://192.168.86.107:33083' processes=0 threads=0, memory=0 B>>"
      ]
     },
     "execution_count": 20,
     "metadata": {},
     "output_type": "execute_result"
    }
   ],
   "source": [
    "client.shutdown"
   ]
  },
  {
   "cell_type": "markdown",
   "id": "9ed1f291-e2ac-43e5-b8e3-847c5590c394",
   "metadata": {},
   "source": [
    "#### Phonetic Clustering Score"
   ]
  },
  {
   "cell_type": "code",
   "execution_count": 7,
   "id": "4f1d4494-e462-4acc-af78-541a0a52c62d",
   "metadata": {
    "tags": []
   },
   "outputs": [],
   "source": [
    "# sim start or rhyme\n",
    "method_intr = ['both' for x in range(len(sub_iter))]\n",
    "errors, results = analyses.run_parallel_sessions(client, analyses.pcs_parallel_v1, sub_iter, exp_iter, sess_iter, method_intr)"
   ]
  },
  {
   "cell_type": "code",
   "execution_count": 8,
   "id": "7dd77105-b7d4-4c3a-84ba-b2a1167db650",
   "metadata": {},
   "outputs": [],
   "source": [
    "pcs_H_data_lst = pd.concat(results, ignore_index=True)                 # list level data\n",
    "pcs_H_data = analyses.pcs_sess_avg(pcs_H_data_lst)          # session average\n",
    "pcs_H_data_bsa = analyses.pcs_btwn_subj_avg(pcs_H_data)     # between-subject average\n",
    "\n",
    "# store results\n",
    "store_results_v1(pcs_H_data_lst, pcs_H_data, pcs_H_data_bsa, 'pcs', False)"
   ]
  },
  {
   "cell_type": "code",
   "execution_count": 9,
   "id": "763de9ba-4161-427c-aaa2-3d595602bab8",
   "metadata": {
    "tags": []
   },
   "outputs": [],
   "source": [
    "# sim start\n",
    "method_intr = ['sim_start' for x in range(len(sub_iter))]\n",
    "errors, results = analyses.run_parallel_sessions(client, analyses.pcs_parallel_v1, sub_iter, exp_iter, sess_iter, method_intr)"
   ]
  },
  {
   "cell_type": "code",
   "execution_count": 10,
   "id": "adc2361d-77ee-415e-9b75-86928b05ff7f",
   "metadata": {},
   "outputs": [],
   "source": [
    "pcs_HS_data_lst = pd.concat(results, ignore_index=True)                 # list level data\n",
    "pcs_HS_data = analyses.pcs_sess_avg(pcs_HS_data_lst)          # session average\n",
    "pcs_HS_data_bsa = analyses.pcs_btwn_subj_avg(pcs_HS_data)     # between-subject average\n",
    "\n",
    "# store results\n",
    "store_results_v1(pcs_HS_data_lst, pcs_HS_data, pcs_HS_data_bsa, 'pcs', False, 'S')"
   ]
  },
  {
   "cell_type": "code",
   "execution_count": 11,
   "id": "61ed3061-3c1a-4fda-8ccc-f3135535767c",
   "metadata": {
    "tags": []
   },
   "outputs": [],
   "source": [
    "# rhyme\n",
    "method_intr = ['rhyme' for x in range(len(sub_iter))]\n",
    "errors, results = analyses.run_parallel_sessions(client, analyses.pcs_parallel_v1, sub_iter, exp_iter, sess_iter, method_intr)"
   ]
  },
  {
   "cell_type": "code",
   "execution_count": 12,
   "id": "9a2c2ba4-d0cc-4a8c-b23c-1faf83bde9d2",
   "metadata": {},
   "outputs": [],
   "source": [
    "pcs_HR_data_lst = pd.concat(results, ignore_index=True)                 # list level data\n",
    "pcs_HR_data = analyses.pcs_sess_avg(pcs_HR_data_lst)          # session average\n",
    "pcs_HR_data_bsa = analyses.pcs_btwn_subj_avg(pcs_HR_data)     # between-subject average\n",
    "\n",
    "# store results\n",
    "store_results_v1(pcs_HR_data_lst, pcs_HR_data, pcs_HR_data_bsa, 'pcs', False, 'R')"
   ]
  },
  {
   "cell_type": "code",
   "execution_count": 9,
   "id": "873bad1c-6dfa-498c-8713-19f38b3c0183",
   "metadata": {
    "tags": []
   },
   "outputs": [],
   "source": [
    "# Jaccard index\n",
    "psim_fxn_iter = [analyses.phonetic_sim_J for x in range(len(sub_iter))]\n",
    "errors, results = analyses.run_parallel_sessions(client, analyses.pcs_parallel_v2, sub_iter, exp_iter, sess_iter,  psim_fxn_iter)"
   ]
  },
  {
   "cell_type": "code",
   "execution_count": 10,
   "id": "89981465-5136-43b7-a9d5-07fc0a2af4cf",
   "metadata": {},
   "outputs": [],
   "source": [
    "pcs_J_data_lst = pd.concat(results, ignore_index=True)                 # list level data\n",
    "pcs_J_data = analyses.pcs_sess_avg(pcs_J_data_lst)         # session average\n",
    "pcs_J_data_bsa = analyses.pcs_btwn_subj_avg(pcs_J_data)    # between-subject average\n",
    "\n",
    "# store results\n",
    "store_results_v2(pcs_J_data_lst, pcs_J_data, pcs_J_data_bsa, 'pcs', 'J', False)"
   ]
  },
  {
   "cell_type": "code",
   "execution_count": 15,
   "id": "0106e2e3-99d6-4d89-ac70-e7a2e47eb3c9",
   "metadata": {
    "tags": []
   },
   "outputs": [],
   "source": [
    "# Jaccard index (first and last phoneme)\n",
    "psim_fxn_iter = [analyses.phonetic_sim_JFL for x in range(len(sub_iter))]\n",
    "errors, results = analyses.run_parallel_sessions(client, analyses.pcs_parallel_v2, sub_iter, exp_iter, sess_iter, psim_fxn_iter)"
   ]
  },
  {
   "cell_type": "code",
   "execution_count": 16,
   "id": "f071eb8e-8111-4c3e-965b-7620a9f02be5",
   "metadata": {},
   "outputs": [],
   "source": [
    "pcs_JFL_data_lst = pd.concat(results, ignore_index=True)                  # list level data\n",
    "pcs_JFL_data = analyses.pcs_sess_avg(pcs_JFL_data_lst)         # session average\n",
    "pcs_JFL_data_bsa = analyses.pcs_btwn_subj_avg(pcs_JFL_data)    # between-subject average\n",
    "\n",
    "# store results\n",
    "store_results_v2(pcs_JFL_data_lst, pcs_JFL_data, pcs_JFL_data_bsa, 'pcs', 'JFL', False)"
   ]
  },
  {
   "cell_type": "markdown",
   "id": "806cd28b-34ad-4a7b-bce9-664041a93e95",
   "metadata": {},
   "source": [
    "#### Temporal Clustering Score"
   ]
  },
  {
   "cell_type": "code",
   "execution_count": 11,
   "id": "0af369f1-3b9d-460f-bdde-0395c744b30c",
   "metadata": {},
   "outputs": [],
   "source": [
    "errors, results = analyses.run_parallel_sessions(client, analyses.tcs_parallel, sub_iter, exp_iter, sess_iter)"
   ]
  },
  {
   "cell_type": "code",
   "execution_count": 12,
   "id": "c5b7d7af-8f8a-42c2-b3d8-50ecbb176ed4",
   "metadata": {},
   "outputs": [],
   "source": [
    "# list level data\n",
    "tcs_data_lst = pd.concat(results, ignore_index=True)\n",
    "tcs_data_lst.to_csv('analyses/dataframes/tcs_data_lst.csv', index=False)\n",
    "\n",
    "# session averages\n",
    "tcs_data = analyses.tcs_sess_avg(tcs_data_lst)\n",
    "tcs_data.to_csv('analyses/dataframes/tcs_data.csv', index=False)\n",
    "\n",
    "# between-subject average\n",
    "tcs_data_bsa = analyses.tcs_btwn_subj_avg(tcs_data)\n",
    "tcs_data_bsa.to_csv('analyses/dataframes/tcs_data_bsa.csv', index=False)"
   ]
  },
  {
   "cell_type": "markdown",
   "id": "0b2cc92c-7cf3-4ffb-9e28-642c34661e4f",
   "metadata": {},
   "source": [
    "#### Semantic Clustering Score"
   ]
  },
  {
   "cell_type": "code",
   "execution_count": 13,
   "id": "541de7aa-eb48-4023-ab07-570b48a45d7e",
   "metadata": {
    "tags": []
   },
   "outputs": [],
   "source": [
    "errors, results = analyses.run_parallel_sessions(client, analyses.scs_parallel, sub_iter, exp_iter, sess_iter)"
   ]
  },
  {
   "cell_type": "code",
   "execution_count": 14,
   "id": "87b4732c-aaa3-4886-beec-9e3023c137fe",
   "metadata": {},
   "outputs": [],
   "source": [
    "# list level data\n",
    "scs_data_lst = pd.concat(results, ignore_index=True)\n",
    "scs_data_lst.to_csv('analyses/dataframes/scs_data_lst.csv', index=False)\n",
    "\n",
    "# session averages\n",
    "scs_data = analyses.scs_sess_avg(scs_data_lst)\n",
    "scs_data.to_csv('analyses/dataframes/scs_data.csv', index=False)\n",
    "\n",
    "# between-subject average\n",
    "scs_data_bsa = analyses.scs_btwn_subj_avg(scs_data)\n",
    "scs_data_bsa.to_csv('analyses/dataframes/scs_data_bsa.csv', index=False)"
   ]
  },
  {
   "cell_type": "markdown",
   "id": "4d63fe92-b814-4be1-97f7-bb24782e1efe",
   "metadata": {},
   "source": [
    "#### Correlation of Clustering Scores"
   ]
  },
  {
   "cell_type": "code",
   "execution_count": 21,
   "id": "d9050f25-e518-4bf2-bd16-0ac8a9096af4",
   "metadata": {},
   "outputs": [
    {
     "data": {
      "application/vnd.jupyter.widget-view+json": {
       "model_id": "0879bb2891e94f588d1cd4dfc54f0f37",
       "version_major": 2,
       "version_minor": 0
      },
      "text/plain": [
       "  0%|          | 0/2374 [00:00<?, ?it/s]"
      ]
     },
     "metadata": {},
     "output_type": "display_data"
    }
   ],
   "source": [
    "# reliability of phonetic similarity metrics\n",
    "pcs_corrs = analyses.pcs_correlations(pcs_H_data_lst, pcs_J_data_lst, pcs_JFL_data_lst)\n",
    "pcs_corrs_bsa = analyses.pcs_corr_btwn_subj_avg(pcs_corrs)\n",
    "pcs_corrs_bsa.to_csv('analyses/dataframes/pcs_corrs_bsa.csv', index=False)"
   ]
  },
  {
   "cell_type": "markdown",
   "id": "aa9b863d-b1b9-45ad-917e-17f926fda5e2",
   "metadata": {},
   "source": [
    "#### Phonetic Intrusions"
   ]
  },
  {
   "cell_type": "code",
   "execution_count": 22,
   "id": "7c7b1343-9737-46a3-8e3f-375bab0605e1",
   "metadata": {},
   "outputs": [],
   "source": [
    "# binary metric, encoding list\n",
    "psim_fxn_iter = [analyses.phonetic_sim_H for x in range(len(sub_iter))]\n",
    "seed_iter = [x for x in range(len(sub_iter))]\n",
    "errors, results = analyses.run_parallel_sessions(client, analyses.psim_intr_parallel_l, sub_iter, exp_iter, sess_iter, psim_fxn_iter, seed_iter)"
   ]
  },
  {
   "cell_type": "code",
   "execution_count": 23,
   "id": "82eb54d1-d632-4bd2-9a5a-8ff7457201a4",
   "metadata": {},
   "outputs": [],
   "source": [
    "psim_intr_l_H_data_tr = pd.concat(results, ignore_index=True)                                  # trial level data\n",
    "psim_intr_l_H_data = analyses.psim_intr_sess_avg_l(psim_intr_l_H_data_tr)            # session averages\n",
    "psim_intr_l_H_data_bsa = analyses.psim_intr_btwn_subj_avg_l(psim_intr_l_H_data)      # between-subject average\n",
    "\n",
    "# store results\n",
    "store_results_v1(psim_intr_l_H_data_tr, psim_intr_l_H_data, psim_intr_l_H_data_bsa, 'psim_intr_l', True)"
   ]
  },
  {
   "cell_type": "code",
   "execution_count": 24,
   "id": "a6cf134c-fe84-43b4-9b1c-0dbe04a308ad",
   "metadata": {},
   "outputs": [],
   "source": [
    "# Jaccard index, encoding list\n",
    "psim_fxn_iter = [analyses.phonetic_sim_J for x in range(len(sub_iter))]\n",
    "seed_iter = [x for x in range(len(sub_iter))]\n",
    "errors, results = analyses.run_parallel_sessions(client, analyses.psim_intr_parallel_l, sub_iter, exp_iter, sess_iter, psim_fxn_iter, seed_iter)"
   ]
  },
  {
   "cell_type": "code",
   "execution_count": 25,
   "id": "1690b5ad-903c-4b26-abe6-2ca780ec0452",
   "metadata": {},
   "outputs": [],
   "source": [
    "psim_intr_l_J_data_tr = pd.concat(results, ignore_index=True)                                  # trial level data\n",
    "psim_intr_l_J_data = analyses.psim_intr_sess_avg_l(psim_intr_l_J_data_tr)           # session averages\n",
    "psim_intr_l_J_data_bsa = analyses.psim_intr_btwn_subj_avg_l(psim_intr_l_J_data)     # between-subject average\n",
    "\n",
    "# store results\n",
    "store_results_v2(psim_intr_l_J_data_tr, psim_intr_l_J_data, psim_intr_l_J_data_bsa, 'psim_intr_l', 'J', True)"
   ]
  },
  {
   "cell_type": "code",
   "execution_count": 26,
   "id": "8f666ed2-769a-409d-8375-a4a4d9cd44f3",
   "metadata": {},
   "outputs": [],
   "source": [
    "# binary metric, preceding recall\n",
    "psim_fxn_iter = [analyses.phonetic_sim_H for x in range(len(sub_iter))]\n",
    "errors, results = analyses.run_parallel_sessions(client, analyses.psim_intr_parallel_r, sub_iter, exp_iter, sess_iter, psim_fxn_iter)"
   ]
  },
  {
   "cell_type": "code",
   "execution_count": 27,
   "id": "bac1d6ed-0970-4f91-8145-f9c49e6827aa",
   "metadata": {},
   "outputs": [],
   "source": [
    "psim_intr_r_H_data_tr = pd.concat(results, ignore_index=True)                                  # trial level data\n",
    "psim_intr_r_H_data = analyses.psim_intr_sess_avg_r(psim_intr_r_H_data_tr)           # session averages\n",
    "psim_intr_r_H_data_bsa = analyses.psim_intr_btwn_subj_avg_r(psim_intr_r_H_data)     # between-subject average\n",
    "\n",
    "# store results\n",
    "store_results_v1(psim_intr_r_H_data_tr, psim_intr_r_H_data, psim_intr_r_H_data_bsa, 'psim_intr_r', True)"
   ]
  },
  {
   "cell_type": "code",
   "execution_count": 28,
   "id": "718f557d-faf0-43f8-974f-c469077a3982",
   "metadata": {},
   "outputs": [],
   "source": [
    "# Jaccard index, preceding recall\n",
    "psim_fxn_iter = [analyses.phonetic_sim_J for x in range(len(sub_iter))]\n",
    "errors, results = analyses.run_parallel_sessions(client, analyses.psim_intr_parallel_r, sub_iter, exp_iter, sess_iter, psim_fxn_iter)"
   ]
  },
  {
   "cell_type": "code",
   "execution_count": 29,
   "id": "562f502f-85ab-44a5-94f3-c5bf5259c82e",
   "metadata": {},
   "outputs": [],
   "source": [
    "psim_intr_r_J_data_tr = pd.concat(results, ignore_index=True)                                    # trial level data\n",
    "psim_intr_r_J_data = analyses.psim_intr_sess_avg_r(psim_intr_r_J_data_tr)             # session averages\n",
    "psim_intr_r_J_data_bsa = analyses.psim_intr_btwn_subj_avg_r(psim_intr_r_J_data)       # between-subject average\n",
    "\n",
    "# store results\n",
    "store_results_v2(psim_intr_r_J_data_tr, psim_intr_r_J_data, psim_intr_r_J_data_bsa, 'psim_intr_r', 'J', True)"
   ]
  },
  {
   "cell_type": "markdown",
   "id": "9db08d04-54f5-4a92-859d-b08f402edc5f",
   "metadata": {},
   "source": [
    "#### Recall Probability"
   ]
  },
  {
   "cell_type": "code",
   "execution_count": 17,
   "id": "e472a034-4556-4520-b19a-304b552db51f",
   "metadata": {},
   "outputs": [],
   "source": [
    "errors, results = analyses.run_parallel_sessions(client, analyses.p_recall_parallel, sub_iter, exp_iter, sess_iter)"
   ]
  },
  {
   "cell_type": "code",
   "execution_count": 18,
   "id": "437e95ae-2563-4017-ad3f-316bb73ff878",
   "metadata": {},
   "outputs": [],
   "source": [
    "# list level data\n",
    "p_recall_data_lst = pd.concat(results, ignore_index=True)\n",
    "p_recall_data_lst.to_csv('analyses/dataframes/p_recall_data_lst.csv', index=False)\n",
    "\n",
    "# session averages\n",
    "p_recall_data = analyses.p_recall_sess_avg(p_recall_data_lst)\n",
    "p_recall_data.to_csv('analyses/dataframes/p_recall_data.csv', index=False)\n",
    "\n",
    "# between-subject average\n",
    "p_recall_data_bsa = analyses.p_recall_btwn_subj_avg(p_recall_data)\n",
    "p_recall_data_bsa.to_csv('analyses/dataframes/p_recall_data_bsa.csv', index=False)"
   ]
  },
  {
   "cell_type": "markdown",
   "id": "e21ba2df-9d98-4747-a9f9-43a83d3613dd",
   "metadata": {},
   "source": [
    "#### Correlations with Recall Probability"
   ]
  },
  {
   "cell_type": "code",
   "execution_count": 19,
   "id": "086098c5-a8eb-4ba7-97d1-6ae583a42b0d",
   "metadata": {},
   "outputs": [
    {
     "data": {
      "application/vnd.jupyter.widget-view+json": {
       "model_id": "6ecee2dd289b4ec88f61022a82e32a8f",
       "version_major": 2,
       "version_minor": 0
      },
      "text/plain": [
       "  0%|          | 0/2374 [00:00<?, ?it/s]"
      ]
     },
     "metadata": {},
     "output_type": "display_data"
    }
   ],
   "source": [
    "df_beh = analyses.aggregate_data_beh(pcs_H_data_lst, pcs_J_data_lst, tcs_data_lst, scs_data_lst, p_recall_data_lst)\n",
    "df_beh.to_csv('analyses/dataframes/cl_pr.csv', index=False)\n",
    "\n",
    "p_recall_corrs = analyses.p_recall_correlations(df_beh)\n",
    "p_recall_corrs_bsa = analyses.p_recall_corr_btwn_subj_avg(p_recall_corrs)\n",
    "p_recall_corrs_bsa.to_csv('analyses/dataframes/p_recall_corrs_bsa.csv', index=False)"
   ]
  },
  {
   "cell_type": "markdown",
   "id": "2811fc62-4ab5-43cd-b87b-89d59ab12afc",
   "metadata": {},
   "source": [
    "#### Phonetic-CRL/IRT"
   ]
  },
  {
   "cell_type": "code",
   "execution_count": 35,
   "id": "55152fff-63f6-4503-bd85-2a6d9488c6fd",
   "metadata": {
    "tags": []
   },
   "outputs": [],
   "source": [
    "errors, results = analyses.run_parallel_sessions(client, analyses.psim_crl_parallel_v1, sub_iter, exp_iter, sess_iter)"
   ]
  },
  {
   "cell_type": "code",
   "execution_count": 36,
   "id": "241a9023-0dcf-4981-b559-6d9d4cc949cd",
   "metadata": {},
   "outputs": [],
   "source": [
    "psim_crl_H_data_tr = pd.concat(results, ignore_index=True)                                  # trial level data\n",
    "psim_crl_H_data = analyses.psim_crl_sess_avg_v1(psim_crl_H_data_tr)             # session average\n",
    "psim_crl_H_data_bsa = analyses.psim_crl_btwn_subj_avg_v1(psim_crl_H_data)       # between-subject average\n",
    "\n",
    "# store results\n",
    "store_results_v1(psim_crl_H_data_tr, psim_crl_H_data, psim_crl_H_data_bsa, 'psim_crl', True)"
   ]
  },
  {
   "cell_type": "code",
   "execution_count": 7,
   "id": "24687544-69d0-42b2-b239-b4bb58c4afb1",
   "metadata": {
    "tags": []
   },
   "outputs": [],
   "source": [
    "# Jaccard index\n",
    "psim_fxn_iter = [analyses.phonetic_sim_J for x in range(len(sub_iter))]\n",
    "errors, results = analyses.run_parallel_sessions(client, analyses.psim_irt_parallel_v2, sub_iter, exp_iter, sess_iter, psim_fxn_iter)"
   ]
  },
  {
   "cell_type": "code",
   "execution_count": 8,
   "id": "015fa72d-303a-475a-afd3-1cd4901a3de3",
   "metadata": {},
   "outputs": [],
   "source": [
    "psim_irt_J_data_tr = pd.concat(results, ignore_index=True)                                # trial level data\n",
    "psim_irt_J_data_tr = analyses.bin_phonetic_similarities(psim_irt_J_data_tr)\n",
    "psim_irt_J_data = analyses.psim_irt_sess_avg_v2(psim_irt_J_data_tr)           # session averages\n",
    "psim_irt_J_data_bsa = analyses.psim_irt_btwn_subj_avg_v2(psim_irt_J_data)     # between-subject average\n",
    "\n",
    "# store results\n",
    "store_results_v2(psim_irt_J_data_tr, psim_irt_J_data, psim_irt_J_data_bsa, 'psim_irt', 'J', True)"
   ]
  }
 ],
 "metadata": {
  "kernelspec": {
   "display_name": "bids",
   "language": "python",
   "name": "bids"
  },
  "language_info": {
   "codemirror_mode": {
    "name": "ipython",
    "version": 3
   },
   "file_extension": ".py",
   "mimetype": "text/x-python",
   "name": "python",
   "nbconvert_exporter": "python",
   "pygments_lexer": "ipython3",
   "version": "3.11.4"
  }
 },
 "nbformat": 4,
 "nbformat_minor": 5
}
