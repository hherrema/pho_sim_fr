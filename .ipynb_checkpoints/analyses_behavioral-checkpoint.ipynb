{
 "cells": [
  {
   "cell_type": "markdown",
   "id": "acf150c4-e6c4-4008-9c5e-1572d68d3d6f",
   "metadata": {},
   "source": [
    "## Analyses"
   ]
  },
  {
   "cell_type": "code",
   "execution_count": 1,
   "id": "50b914a1-454e-4f71-be70-45277eb8f251",
   "metadata": {},
   "outputs": [
    {
     "name": "stderr",
     "output_type": "stream",
     "text": [
      "[nltk_data] Downloading package cmudict to\n",
      "[nltk_data]     /home1/hherrema/nltk_data...\n",
      "[nltk_data]   Package cmudict is already up-to-date!\n"
     ]
    }
   ],
   "source": [
    "# imports\n",
    "import numpy as np\n",
    "import pandas as pd; pd.set_option('display.max_columns', None)\n",
    "import cmlreaders as cml\n",
    "from analyses import analyses_behavioral\n",
    "import warnings; warnings.filterwarnings(\"ignore\")"
   ]
  },
  {
   "cell_type": "code",
   "execution_count": 2,
   "id": "f90d8c6a-c931-4f9d-98a6-d3e111c27671",
   "metadata": {},
   "outputs": [],
   "source": [
    "df = cml.get_data_index()\n",
    "\n",
    "df_intrac = df[df.experiment.isin(['FR1', 'pyFR', 'IFR1'])]\n",
    "df_scalp = df[(df['experiment'] == 'ltpFR2') & (df['session'] != 23)]\n",
    "\n",
    "df_select = pd.concat([df_intrac, df_scalp], ignore_index=True)"
   ]
  },
  {
   "cell_type": "markdown",
   "id": "ab66c16e-3a2f-453b-97e2-a6dd12077ba1",
   "metadata": {},
   "source": [
    "#### Parallel Computing"
   ]
  },
  {
   "cell_type": "code",
   "execution_count": 3,
   "id": "84218b51-9796-4ef4-893b-8e44d263be71",
   "metadata": {},
   "outputs": [
    {
     "name": "stdout",
     "output_type": "stream",
     "text": [
      "Unique port for hherrema is 51465\n",
      "{'dashboard_address': ':51465'}\n",
      "To view the dashboard, run: \n",
      "`ssh -fN hherrema@rhino2.psych.upenn.edu -L 8000:192.168.86.106:51465` in your local computer's terminal (NOT rhino) \n",
      "and then navigate to localhost:8000 in your browser\n"
     ]
    }
   ],
   "source": [
    "client = analyses_behavioral.create_client('pcs', '3GB', 300)"
   ]
  },
  {
   "cell_type": "code",
   "execution_count": 4,
   "id": "096baae1-3646-470c-b89d-2b645b9b6191",
   "metadata": {},
   "outputs": [
    {
     "data": {
      "application/vnd.jupyter.widget-view+json": {
       "model_id": "89b507bcce0b4b2fb723e356fb911000",
       "version_major": 2,
       "version_minor": 0
      },
      "text/plain": [
       "0it [00:00, ?it/s]"
      ]
     },
     "metadata": {},
     "output_type": "display_data"
    }
   ],
   "source": [
    "sub_iter, exp_iter, sess_iter, loc_iter, mont_iter = analyses_behavioral.build_iterables(df_select)"
   ]
  },
  {
   "cell_type": "code",
   "execution_count": 15,
   "id": "04657ce6-47cc-4dbd-a19a-eaf520b0233c",
   "metadata": {},
   "outputs": [
    {
     "data": {
      "text/plain": [
       "<bound method Client.shutdown of <Client: 'tcp://192.168.86.107:43485' processes=0 threads=0, memory=0 B>>"
      ]
     },
     "execution_count": 15,
     "metadata": {},
     "output_type": "execute_result"
    }
   ],
   "source": [
    "client.shutdown"
   ]
  },
  {
   "cell_type": "markdown",
   "id": "7d6badf9-5720-47b4-8b2a-6e8e672b17e3",
   "metadata": {},
   "source": [
    "#### Phonetic Clustering Score"
   ]
  },
  {
   "cell_type": "code",
   "execution_count": 6,
   "id": "c73f317e-9190-45ff-adda-322323e5bd14",
   "metadata": {
    "tags": []
   },
   "outputs": [],
   "source": [
    "errors, results = analyses_behavioral.run_parallel_sessions(client, analyses_behavioral.pcs_parallel_v1, sub_iter, exp_iter, sess_iter, loc_iter, mont_iter)"
   ]
  },
  {
   "cell_type": "code",
   "execution_count": 7,
   "id": "c12d95f5-7841-46cf-84f5-c5ef529bc7f3",
   "metadata": {},
   "outputs": [],
   "source": [
    "pcs_v1_data = pd.concat(results, ignore_index=True)\n",
    "pcs_v1_data.to_csv('analyses/dataframes/pcs_v1_data.csv', index=False)\n",
    "\n",
    "# between-subject average\n",
    "pcs_v1_data_bsa = analyses_behavioral.pcs_btwn_subj_avg(pcs_v1_data)\n",
    "pcs_v1_data_bsa.to_csv('analyses/dataframes/pcs_v1_data_bsa.csv', index=False)"
   ]
  },
  {
   "cell_type": "code",
   "execution_count": 8,
   "id": "141de944-9c1a-4124-96ff-8542245a16de",
   "metadata": {
    "tags": []
   },
   "outputs": [],
   "source": [
    "errors, results = analyses_behavioral.run_parallel_sessions(client, analyses_behavioral.pcs_parallel_v2, sub_iter, exp_iter, sess_iter, loc_iter, mont_iter)"
   ]
  },
  {
   "cell_type": "code",
   "execution_count": 9,
   "id": "60a87cc5-cd86-47b9-b144-f16c0d40508a",
   "metadata": {},
   "outputs": [],
   "source": [
    "pcs_v2_data = pd.concat(results, ignore_index=True)\n",
    "pcs_v2_data.to_csv('analyses/dataframes/pcs_v2_data.csv', index=False)\n",
    "\n",
    "# between-subject average\n",
    "pcs_v2_data_bsa = analyses_behavioral.pcs_btwn_subj_avg(pcs_v2_data)\n",
    "pcs_v2_data_bsa.to_csv('analyses/dataframes/pcs_v2_data_bsa.csv', index=False)"
   ]
  },
  {
   "cell_type": "markdown",
   "id": "e43a2567-f833-4ca6-810d-dd7e3b5af7dd",
   "metadata": {},
   "source": [
    "#### Phonetic-CRL"
   ]
  },
  {
   "cell_type": "code",
   "execution_count": 10,
   "id": "f703533a-adf1-4578-94f1-5aafb4d813d6",
   "metadata": {
    "tags": []
   },
   "outputs": [],
   "source": [
    "errors, results = analyses_behavioral.run_parallel_sessions(client, analyses_behavioral.psim_crl_parallel_v1, sub_iter, exp_iter, sess_iter, loc_iter, mont_iter)"
   ]
  },
  {
   "cell_type": "code",
   "execution_count": 11,
   "id": "b94840fa-7f63-4cdf-b357-af08ff564548",
   "metadata": {},
   "outputs": [],
   "source": [
    "psim_crl_v1_data = pd.concat(results, ignore_index=True)\n",
    "psim_crl_v1_data.to_csv('analyses/dataframes/psim_crl_v1_data.csv', index=False)\n",
    "\n",
    "# between-subject average\n",
    "psim_crl_v1_data_bsa = analyses_behavioral.psim_crl_btwn_subj_avg_v1(psim_crl_v1_data)\n",
    "psim_crl_v1_data_bsa.to_csv('analyses/dataframes/psim_crl_v1_data_bsa.csv', index=False)"
   ]
  },
  {
   "cell_type": "code",
   "execution_count": 12,
   "id": "11f0db49-b490-4ee6-83a4-31c1c195860b",
   "metadata": {
    "tags": []
   },
   "outputs": [],
   "source": [
    "errors, results = analyses_behavioral.run_parallel_sessions(client, analyses_behavioral.psim_crl_parallel_v2, sub_iter, exp_iter, sess_iter, loc_iter, mont_iter)"
   ]
  },
  {
   "cell_type": "code",
   "execution_count": 13,
   "id": "ac50b54a-95e6-4ee3-83dd-b3bd35afc50c",
   "metadata": {},
   "outputs": [],
   "source": [
    "psim_crl_v2_data = pd.concat(results, ignore_index=True)\n",
    "psim_crl_v2_data.to_csv('analyses/dataframes/psim_crl_v2_data.csv', index=False)\n",
    "\n",
    "# bin phonetic similarities (within exp_type)\n",
    "psim_crl_v2_data_intrac = psim_crl_v2_data.query(\"exp_type == 'intracranial'\")\n",
    "psim_crl_v2_data_scalp = psim_crl_v2_data.query(\"exp_type == 'scalp'\")\n",
    "\n",
    "mask_i = psim_crl_v2_data_intrac['psim'] == 0\n",
    "mask_s = psim_crl_v2_data_scalp['psim'] == 0\n",
    "\n",
    "# psim = 0 all in one bin\n",
    "psim_crl_v2_data_intrac.loc[mask_i, 'bin'] = 0\n",
    "psim_crl_v2_data_scalp.loc[mask_s, 'bin'] = 0\n",
    "\n",
    "# 5 quantiles\n",
    "psim_crl_v2_data_intrac.loc[~mask_i, 'bin'] = pd.qcut(psim_crl_v2_data_intrac.loc[~mask_i, 'psim'], q=5, labels=False) + 1\n",
    "psim_crl_v2_data_scalp.loc[~mask_s, 'bin'] = pd.qcut(psim_crl_v2_data_scalp.loc[~mask_s, 'psim'], q=5, labels=False) + 1\n",
    "\n",
    "# concatenate dataframes\n",
    "psim_crl_v2_data = pd.concat([psim_crl_v2_data_intrac, psim_crl_v2_data_scalp], ignore_index=True)\n",
    "\n",
    "# between-subject average\n",
    "psim_crl_v2_data_bsa = analyses_behavioral.psim_crl_btwn_subj_avg_v2(psim_crl_v2_data)\n",
    "psim_crl_v2_data_bsa.to_csv('analyses/dataframes/psim_crl_v2_data_bsa.csv', index=False)"
   ]
  },
  {
   "cell_type": "markdown",
   "id": "06755af9-5b4e-458a-b04e-78c3e919f281",
   "metadata": {},
   "source": [
    "#### Phonetic Intrusions"
   ]
  },
  {
   "cell_type": "code",
   "execution_count": 15,
   "id": "d15c27a9-6f36-4742-bee2-cc039229b989",
   "metadata": {
    "tags": []
   },
   "outputs": [],
   "source": [
    "errors, results = analyses_behavioral.run_parallel_sessions(client, analyses_behavioral.psim_intr_parallel_v1, sub_iter, exp_iter, sess_iter, loc_iter, mont_iter)"
   ]
  },
  {
   "cell_type": "code",
   "execution_count": 16,
   "id": "e700a74a-5ef6-4f0a-aee7-aea3cf3cb63f",
   "metadata": {},
   "outputs": [],
   "source": [
    "psim_intr_v1_data = pd.concat(results, ignore_index=True)\n",
    "psim_intr_v1_data.to_csv('analyses/dataframes/psim_intr_v1_data.csv', index=False)\n",
    "\n",
    "# between-subject average\n",
    "psim_intr_v1_data_bsa = analyses_behavioral.psim_intr_btwn_subj_avg_v1(psim_intr_v1_data)\n",
    "psim_intr_v1_data_bsa.to_csv('analyses/dataframes/psim_intr_v1_data_bsa.csv', index=False)"
   ]
  },
  {
   "cell_type": "code",
   "execution_count": 17,
   "id": "c456e58d-d395-4d89-a0cc-98d133816e11",
   "metadata": {
    "tags": []
   },
   "outputs": [],
   "source": [
    "errors, results = analyses_behavioral.run_parallel_sessions(client, analyses_behavioral.psim_intr_parallel_v2, sub_iter, exp_iter, sess_iter, loc_iter, mont_iter)"
   ]
  },
  {
   "cell_type": "code",
   "execution_count": 18,
   "id": "7886f235-2b61-4ea8-883c-d9694961553b",
   "metadata": {},
   "outputs": [],
   "source": [
    "psim_intr_v2_data = pd.concat(results, ignore_index=True)\n",
    "psim_intr_v2_data.to_csv('analyses/dataframes/psim_intr_v2_data.csv', index=False)\n",
    "\n",
    "# between-subject average\n",
    "psim_intr_v2_data_bsa = analyses_behavioral.psim_intr_btwn_subj_avg_v2(psim_intr_v2_data)\n",
    "psim_intr_v2_data_bsa.to_csv('analyses/dataframes/psim_intr_v2_data_bsa.csv', index=False)"
   ]
  },
  {
   "cell_type": "markdown",
   "id": "21e4125d-2902-42df-837c-0ab588dc5380",
   "metadata": {},
   "source": [
    "#### Temporal Clustering Score"
   ]
  },
  {
   "cell_type": "code",
   "execution_count": 19,
   "id": "70890454-4088-4e09-b513-8bf52c3524a7",
   "metadata": {
    "tags": []
   },
   "outputs": [],
   "source": [
    "errors, results = analyses_behavioral.run_parallel_sessions(client, analyses_behavioral.tcs_parallel, sub_iter, exp_iter, sess_iter, loc_iter, mont_iter)"
   ]
  },
  {
   "cell_type": "code",
   "execution_count": 20,
   "id": "fcea8b62-185b-4f9c-8435-e9f1da28e26f",
   "metadata": {},
   "outputs": [],
   "source": [
    "tcs_data = pd.concat(results, ignore_index=True)\n",
    "tcs_data.to_csv('analyses/dataframes/tcs_data.csv', index=False)\n",
    "\n",
    "# between-subject average\n",
    "tcs_data_bsa = analyses_behavioral.tcs_btwn_subj_avg(tcs_data)\n",
    "tcs_data_bsa.to_csv('analyses/dataframes/tcs_data_bsa.csv', index=False)"
   ]
  },
  {
   "cell_type": "markdown",
   "id": "fe40f3ed-0a7d-4d0f-8440-259de9247028",
   "metadata": {},
   "source": [
    "#### Semantic Clustering Score"
   ]
  },
  {
   "cell_type": "code",
   "execution_count": 21,
   "id": "c410355c-e1eb-4df1-a2c2-ec935a831a28",
   "metadata": {
    "tags": []
   },
   "outputs": [],
   "source": [
    "errors, results = analyses_behavioral.run_parallel_sessions(client, analyses_behavioral.scs_parallel, sub_iter, exp_iter, sess_iter, loc_iter, mont_iter)"
   ]
  },
  {
   "cell_type": "code",
   "execution_count": 22,
   "id": "ef253de3-116b-4a2c-b823-d460daac76f1",
   "metadata": {},
   "outputs": [],
   "source": [
    "scs_data = pd.concat(results, ignore_index=True)\n",
    "scs_data.to_csv('analyses/dataframes/scs_data.csv', index=False)\n",
    "\n",
    "# between-subject average\n",
    "scs_data_bsa = analyses_behavioral.scs_btwn_subj_avg(scs_data)\n",
    "scs_data_bsa.to_csv('analyses/dataframes/scs_data_bsa.csv', index=False)"
   ]
  },
  {
   "cell_type": "markdown",
   "id": "a017df33-c7a3-433b-bf96-d6c641d68cc3",
   "metadata": {},
   "source": [
    "#### Recall Probability"
   ]
  },
  {
   "cell_type": "code",
   "execution_count": 23,
   "id": "cf9d2a43-6daf-4558-ac85-12241accd329",
   "metadata": {
    "tags": []
   },
   "outputs": [],
   "source": [
    "errors, results = analyses_behavioral.run_parallel_sessions(client, analyses_behavioral.p_recall_parallel, sub_iter, exp_iter, sess_iter, loc_iter, mont_iter)"
   ]
  },
  {
   "cell_type": "code",
   "execution_count": 24,
   "id": "c59c68a8-536a-42f9-aab4-cdb973e73620",
   "metadata": {},
   "outputs": [],
   "source": [
    "p_recall_data = pd.concat(results, ignore_index=True)\n",
    "p_recall_data.to_csv('analyses/dataframes/p_recall_data.csv', index=False)\n",
    "\n",
    "# between-subject average\n",
    "p_recall_data_bsa = analyses_behavioral.p_recall_btwn_subj_avg(p_recall_data)\n",
    "p_recall_data_bsa.to_csv('analyses/dataframes/p_recall_data_bsa.csv', index=False)"
   ]
  },
  {
   "cell_type": "markdown",
   "id": "09829ae1-09dc-4043-be6b-ac891607ac1b",
   "metadata": {},
   "source": [
    "#### First Phoneme Recall Probability"
   ]
  },
  {
   "cell_type": "code",
   "execution_count": 25,
   "id": "ac32f84f-b8c2-4794-bdc3-837bc0305c72",
   "metadata": {},
   "outputs": [],
   "source": [
    "errors, results = analyses_behavioral.run_parallel_sessions(client, analyses_behavioral.ph1_recall_parallel, sub_iter, exp_iter, sess_iter, loc_iter, mont_iter)"
   ]
  },
  {
   "cell_type": "code",
   "execution_count": 26,
   "id": "27f2a1fc-2a44-42ab-a2ca-7e64853d5070",
   "metadata": {},
   "outputs": [],
   "source": [
    "ph1_recall_data = pd.concat(results, ignore_index=True)\n",
    "ph1_recall_data.to_csv('analyses/dataframes/ph1_recall_data.csv', index=False)\n",
    "\n",
    "# between-subject average\n",
    "ph1_recall_data_bsa = analyses_behavioral.ph1_recall_btwn_subj_avg(ph1_recall_data)\n",
    "ph1_recall_data_bsa.to_csv('analyses/dataframes/ph1_recall_data_bsa.csv', index=False)"
   ]
  },
  {
   "cell_type": "markdown",
   "id": "1eacf48e-61cd-422b-9b08-7ae79a02abc9",
   "metadata": {},
   "source": [
    "#### Correlation with Phonetic Clustering Scores"
   ]
  },
  {
   "cell_type": "code",
   "execution_count": 34,
   "id": "ffa95f63-ed5d-47d9-b915-1cecb29f4671",
   "metadata": {},
   "outputs": [
    {
     "data": {
      "application/vnd.jupyter.widget-view+json": {
       "model_id": "afb58b29be4e4421be2e0407de7e725d",
       "version_major": 2,
       "version_minor": 0
      },
      "text/plain": [
       "  0%|          | 0/3284 [00:00<?, ?it/s]"
      ]
     },
     "metadata": {},
     "output_type": "display_data"
    }
   ],
   "source": [
    "pcs_corrs = analyses_behavioral.pcs_correlations(pcs_v1_data, pcs_v2_data)\n",
    "pcs_corrs_bsa = analyses_behavioral.pcs_corr_btwn_subj_avg(pcs_corrs)\n",
    "pcs_corrs_bsa.to_csv('analyses/dataframes/pcs_corrs_bsa.csv', index=False)"
   ]
  },
  {
   "cell_type": "markdown",
   "id": "977a1d76-1d00-469d-8088-fe2fe62dece9",
   "metadata": {},
   "source": [
    "#### Correlations with Recall Probability"
   ]
  },
  {
   "cell_type": "code",
   "execution_count": 35,
   "id": "c5d011cf-8ade-4622-8cf3-3af9f19dc6b5",
   "metadata": {},
   "outputs": [],
   "source": [
    "# correlate with p_recall over lists within sessions\n",
    "def p_recall_correlations(df):\n",
    "    stats = []\n",
    "    for (sub, et, exp, sess, loc, mont), data in tqdm(df.groupby(['subject', 'exp_type', 'experiment', 'session', 'localization', 'montage'])):\n",
    "        if len(data) > 1:\n",
    "            # correlations with p_recall\n",
    "            r_pcs_v1, _ = scipy.stats.pearsonr(data.pcs_v1, data.p_recall, alternative='two-sided')\n",
    "            r_pcs_v2, _ = scipy.stats.pearsonr(data.pcs_v2, data.p_recall, alternative='two-sided')\n",
    "            r_tcs, _ = scipy.stats.pearsonr(data.tcs, data.p_recall, alternative='two-sided')\n",
    "            r_scs, _ = scipy.stats.pearsonr(data.scs, data.p_recall, alternative='two-sided')\n",
    "\n",
    "            stats.append((sub, et, exp, sess, loc, mont, r_pcs_v1, r_pcs_v2, r_tcs, r_scs))\n",
    "\n",
    "    # save results as dataframe\n",
    "    return pd.DataFrame(stats, columns=['subject', 'exp_type', 'experiment', 'session', 'localization', 'montage',\n",
    "                                        'r_pcs_v1', 'r_pcs_v2', 'r_tcs', 'r_scs'])"
   ]
  },
  {
   "cell_type": "code",
   "execution_count": 36,
   "id": "a2b12d0a-21eb-45f1-b74a-78c5ce197bf1",
   "metadata": {},
   "outputs": [
    {
     "data": {
      "application/vnd.jupyter.widget-view+json": {
       "model_id": "d3963cb1bf034725843ddf0d3f5babd0",
       "version_major": 2,
       "version_minor": 0
      },
      "text/plain": [
       "  0%|          | 0/3275 [00:00<?, ?it/s]"
      ]
     },
     "metadata": {},
     "output_type": "display_data"
    }
   ],
   "source": [
    "df_beh = analyses_behavioral.aggregate_data_beh(pcs_v1_data, pcs_v2_data, tcs_data, scs_data, p_recall_data)\n",
    "p_recall_corrs = analyses_behavioral.p_recall_correlations(df_beh)\n",
    "p_recall_corrs_bsa = analyses_behavioral.p_recall_corr_btwn_subj_avg(p_recall_corrs)\n",
    "p_recall_corrs_bsa.to_csv('analyses/dataframes/p_recall_corrs_bsa.csv', index=False)"
   ]
  },
  {
   "cell_type": "code",
   "execution_count": 37,
   "id": "3839b248-8c20-467b-923b-52103712b7da",
   "metadata": {},
   "outputs": [
    {
     "data": {
      "text/html": [
       "<div>\n",
       "<style scoped>\n",
       "    .dataframe tbody tr th:only-of-type {\n",
       "        vertical-align: middle;\n",
       "    }\n",
       "\n",
       "    .dataframe tbody tr th {\n",
       "        vertical-align: top;\n",
       "    }\n",
       "\n",
       "    .dataframe thead th {\n",
       "        text-align: right;\n",
       "    }\n",
       "</style>\n",
       "<table border=\"1\" class=\"dataframe\">\n",
       "  <thead>\n",
       "    <tr style=\"text-align: right;\">\n",
       "      <th></th>\n",
       "      <th>subject</th>\n",
       "      <th>exp_type</th>\n",
       "      <th>experiment</th>\n",
       "      <th>session</th>\n",
       "      <th>localization</th>\n",
       "      <th>montage</th>\n",
       "      <th>list</th>\n",
       "      <th>pcs_v1</th>\n",
       "      <th>pcs_v2</th>\n",
       "      <th>tcs</th>\n",
       "      <th>scs</th>\n",
       "      <th>l_length</th>\n",
       "      <th>ncr</th>\n",
       "      <th>p_recall</th>\n",
       "    </tr>\n",
       "  </thead>\n",
       "  <tbody>\n",
       "    <tr>\n",
       "      <th>0</th>\n",
       "      <td>R1001P</td>\n",
       "      <td>intracranial</td>\n",
       "      <td>FR1</td>\n",
       "      <td>0</td>\n",
       "      <td>0</td>\n",
       "      <td>0</td>\n",
       "      <td>3</td>\n",
       "      <td>0.818182</td>\n",
       "      <td>1.000000</td>\n",
       "      <td>0.400000</td>\n",
       "      <td>0.400000</td>\n",
       "      <td>12</td>\n",
       "      <td>2</td>\n",
       "      <td>0.166667</td>\n",
       "    </tr>\n",
       "    <tr>\n",
       "      <th>1</th>\n",
       "      <td>R1001P</td>\n",
       "      <td>intracranial</td>\n",
       "      <td>FR1</td>\n",
       "      <td>0</td>\n",
       "      <td>0</td>\n",
       "      <td>0</td>\n",
       "      <td>8</td>\n",
       "      <td>0.354545</td>\n",
       "      <td>0.588889</td>\n",
       "      <td>0.500000</td>\n",
       "      <td>0.722222</td>\n",
       "      <td>12</td>\n",
       "      <td>3</td>\n",
       "      <td>0.25</td>\n",
       "    </tr>\n",
       "    <tr>\n",
       "      <th>2</th>\n",
       "      <td>R1001P</td>\n",
       "      <td>intracranial</td>\n",
       "      <td>FR1</td>\n",
       "      <td>0</td>\n",
       "      <td>0</td>\n",
       "      <td>0</td>\n",
       "      <td>14</td>\n",
       "      <td>0.133418</td>\n",
       "      <td>0.750000</td>\n",
       "      <td>0.614286</td>\n",
       "      <td>0.408333</td>\n",
       "      <td>12</td>\n",
       "      <td>5</td>\n",
       "      <td>0.416667</td>\n",
       "    </tr>\n",
       "    <tr>\n",
       "      <th>3</th>\n",
       "      <td>R1001P</td>\n",
       "      <td>intracranial</td>\n",
       "      <td>FR1</td>\n",
       "      <td>0</td>\n",
       "      <td>0</td>\n",
       "      <td>0</td>\n",
       "      <td>15</td>\n",
       "      <td>-0.146465</td>\n",
       "      <td>0.332986</td>\n",
       "      <td>0.533532</td>\n",
       "      <td>0.830357</td>\n",
       "      <td>12</td>\n",
       "      <td>5</td>\n",
       "      <td>0.416667</td>\n",
       "    </tr>\n",
       "    <tr>\n",
       "      <th>4</th>\n",
       "      <td>R1001P</td>\n",
       "      <td>intracranial</td>\n",
       "      <td>FR1</td>\n",
       "      <td>0</td>\n",
       "      <td>0</td>\n",
       "      <td>0</td>\n",
       "      <td>16</td>\n",
       "      <td>-0.090909</td>\n",
       "      <td>0.475000</td>\n",
       "      <td>0.975000</td>\n",
       "      <td>0.666667</td>\n",
       "      <td>12</td>\n",
       "      <td>3</td>\n",
       "      <td>0.25</td>\n",
       "    </tr>\n",
       "    <tr>\n",
       "      <th>...</th>\n",
       "      <td>...</td>\n",
       "      <td>...</td>\n",
       "      <td>...</td>\n",
       "      <td>...</td>\n",
       "      <td>...</td>\n",
       "      <td>...</td>\n",
       "      <td>...</td>\n",
       "      <td>...</td>\n",
       "      <td>...</td>\n",
       "      <td>...</td>\n",
       "      <td>...</td>\n",
       "      <td>...</td>\n",
       "      <td>...</td>\n",
       "      <td>...</td>\n",
       "    </tr>\n",
       "    <tr>\n",
       "      <th>65684</th>\n",
       "      <td>LTP393</td>\n",
       "      <td>scalp</td>\n",
       "      <td>ltpFR2</td>\n",
       "      <td>9</td>\n",
       "      <td>0</td>\n",
       "      <td>9</td>\n",
       "      <td>17</td>\n",
       "      <td>-0.173913</td>\n",
       "      <td>0.592045</td>\n",
       "      <td>0.675239</td>\n",
       "      <td>0.509091</td>\n",
       "      <td>24</td>\n",
       "      <td>4</td>\n",
       "      <td>0.166667</td>\n",
       "    </tr>\n",
       "    <tr>\n",
       "      <th>65685</th>\n",
       "      <td>LTP393</td>\n",
       "      <td>scalp</td>\n",
       "      <td>ltpFR2</td>\n",
       "      <td>9</td>\n",
       "      <td>0</td>\n",
       "      <td>9</td>\n",
       "      <td>19</td>\n",
       "      <td>-0.082352</td>\n",
       "      <td>0.625890</td>\n",
       "      <td>0.980921</td>\n",
       "      <td>0.423972</td>\n",
       "      <td>24</td>\n",
       "      <td>5</td>\n",
       "      <td>0.208333</td>\n",
       "    </tr>\n",
       "    <tr>\n",
       "      <th>65686</th>\n",
       "      <td>LTP393</td>\n",
       "      <td>scalp</td>\n",
       "      <td>ltpFR2</td>\n",
       "      <td>9</td>\n",
       "      <td>0</td>\n",
       "      <td>9</td>\n",
       "      <td>20</td>\n",
       "      <td>0.231738</td>\n",
       "      <td>0.404016</td>\n",
       "      <td>0.664905</td>\n",
       "      <td>0.522384</td>\n",
       "      <td>24</td>\n",
       "      <td>8</td>\n",
       "      <td>0.333333</td>\n",
       "    </tr>\n",
       "    <tr>\n",
       "      <th>65687</th>\n",
       "      <td>LTP393</td>\n",
       "      <td>scalp</td>\n",
       "      <td>ltpFR2</td>\n",
       "      <td>9</td>\n",
       "      <td>0</td>\n",
       "      <td>9</td>\n",
       "      <td>22</td>\n",
       "      <td>0.281435</td>\n",
       "      <td>0.713786</td>\n",
       "      <td>0.689741</td>\n",
       "      <td>0.688577</td>\n",
       "      <td>24</td>\n",
       "      <td>5</td>\n",
       "      <td>0.208333</td>\n",
       "    </tr>\n",
       "    <tr>\n",
       "      <th>65688</th>\n",
       "      <td>LTP393</td>\n",
       "      <td>scalp</td>\n",
       "      <td>ltpFR2</td>\n",
       "      <td>9</td>\n",
       "      <td>0</td>\n",
       "      <td>9</td>\n",
       "      <td>24</td>\n",
       "      <td>-0.104806</td>\n",
       "      <td>0.437229</td>\n",
       "      <td>0.603075</td>\n",
       "      <td>0.415512</td>\n",
       "      <td>24</td>\n",
       "      <td>6</td>\n",
       "      <td>0.25</td>\n",
       "    </tr>\n",
       "  </tbody>\n",
       "</table>\n",
       "<p>65575 rows × 14 columns</p>\n",
       "</div>"
      ],
      "text/plain": [
       "      subject      exp_type experiment  session  localization  montage list  \\\n",
       "0      R1001P  intracranial        FR1        0             0        0    3   \n",
       "1      R1001P  intracranial        FR1        0             0        0    8   \n",
       "2      R1001P  intracranial        FR1        0             0        0   14   \n",
       "3      R1001P  intracranial        FR1        0             0        0   15   \n",
       "4      R1001P  intracranial        FR1        0             0        0   16   \n",
       "...       ...           ...        ...      ...           ...      ...  ...   \n",
       "65684  LTP393         scalp     ltpFR2        9             0        9   17   \n",
       "65685  LTP393         scalp     ltpFR2        9             0        9   19   \n",
       "65686  LTP393         scalp     ltpFR2        9             0        9   20   \n",
       "65687  LTP393         scalp     ltpFR2        9             0        9   22   \n",
       "65688  LTP393         scalp     ltpFR2        9             0        9   24   \n",
       "\n",
       "         pcs_v1    pcs_v2       tcs       scs  l_length ncr  p_recall  \n",
       "0      0.818182  1.000000  0.400000  0.400000        12   2  0.166667  \n",
       "1      0.354545  0.588889  0.500000  0.722222        12   3      0.25  \n",
       "2      0.133418  0.750000  0.614286  0.408333        12   5  0.416667  \n",
       "3     -0.146465  0.332986  0.533532  0.830357        12   5  0.416667  \n",
       "4     -0.090909  0.475000  0.975000  0.666667        12   3      0.25  \n",
       "...         ...       ...       ...       ...       ...  ..       ...  \n",
       "65684 -0.173913  0.592045  0.675239  0.509091        24   4  0.166667  \n",
       "65685 -0.082352  0.625890  0.980921  0.423972        24   5  0.208333  \n",
       "65686  0.231738  0.404016  0.664905  0.522384        24   8  0.333333  \n",
       "65687  0.281435  0.713786  0.689741  0.688577        24   5  0.208333  \n",
       "65688 -0.104806  0.437229  0.603075  0.415512        24   6      0.25  \n",
       "\n",
       "[65575 rows x 14 columns]"
      ]
     },
     "execution_count": 37,
     "metadata": {},
     "output_type": "execute_result"
    }
   ],
   "source": [
    "df_beh"
   ]
  },
  {
   "cell_type": "code",
   "execution_count": 38,
   "id": "b8790988-ecdb-4354-a22e-aa780ff259ec",
   "metadata": {},
   "outputs": [],
   "source": [
    "df_beh.to_csv('df_cl_pr.csv', index=False)"
   ]
  }
 ],
 "metadata": {
  "kernelspec": {
   "display_name": "bids",
   "language": "python",
   "name": "bids"
  },
  "language_info": {
   "codemirror_mode": {
    "name": "ipython",
    "version": 3
   },
   "file_extension": ".py",
   "mimetype": "text/x-python",
   "name": "python",
   "nbconvert_exporter": "python",
   "pygments_lexer": "ipython3",
   "version": "3.11.4"
  }
 },
 "nbformat": 4,
 "nbformat_minor": 5
}
