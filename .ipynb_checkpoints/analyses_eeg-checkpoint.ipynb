{
 "cells": [
  {
   "cell_type": "markdown",
   "id": "4e5e96b9-0b15-48f4-ad57-b66747a75d35",
   "metadata": {},
   "source": [
    "## Analyses (EEG)"
   ]
  },
  {
   "cell_type": "code",
   "execution_count": 1,
   "id": "fb17cd61-666d-4c35-8c32-a167f6421f9e",
   "metadata": {},
   "outputs": [],
   "source": [
    "# imports\n",
    "import numpy as np\n",
    "import pandas as pd; pd.set_option('display.max_columns', None)\n",
    "import cmlreaders as cml\n",
    "from tqdm.notebook import tqdm\n",
    "import itertools\n",
    "from ptsa.data.filters import morlet\n",
    "from ptsa.data.filters import ButterworthFilter\n",
    "import os\n",
    "from glob import glob"
   ]
  },
  {
   "cell_type": "markdown",
   "id": "3261cabb-07d6-4a0f-b204-da6cc32e9a54",
   "metadata": {},
   "source": [
    "#### Load in Results (and Errors)"
   ]
  },
  {
   "cell_type": "code",
   "execution_count": 10,
   "id": "688e7529-8310-4187-96fa-3a03717af04b",
   "metadata": {},
   "outputs": [],
   "source": [
    "# load and concatenate from temp directories, save out\n",
    "def load_eeg_results_errors():\n",
    "    # results\n",
    "    nse_data = []\n",
    "    res_csvs = [x for x in os.listdir('analyses/temp/dataframes/') if x[-3:] == 'csv']\n",
    "    for csv in res_csvs:\n",
    "        nse_data.append(pd.read_csv(f'analyses/temp/dataframes/{csv}'))\n",
    "\n",
    "    nse_data = pd.concat(nse_data, ignore_index=True)\n",
    "    nse_data.to_csv('analyses/dataframes/nse_data.csv', index=False)\n",
    "    \n",
    "    # errors\n",
    "    nse_errors = []\n",
    "    err_csvs = [x for x in os.listdir('analyses/temp/errors/') if x[-3:] == 'csv']\n",
    "    for csv in err_csvs:\n",
    "        nse_errors.append(pd.read_csv(f'analyses/temp/errors/{csv}'))\n",
    "\n",
    "    nse_errors = pd.concat(nse_errors, ignore_index=True)\n",
    "    nse_errors.to_csv('analyses/dataframes/nse_errors.csv', index=False)\n",
    "    \n",
    "    return nse_data, nse_errors"
   ]
  },
  {
   "cell_type": "code",
   "execution_count": 11,
   "id": "c234be85-c9af-4a46-8ff3-a4dcfd5bbf92",
   "metadata": {},
   "outputs": [],
   "source": [
    "nse_data, nse_errors = load_eeg_results_errors()"
   ]
  },
  {
   "cell_type": "markdown",
   "id": "e339dbf7-9113-405c-94e7-00038c1bee3c",
   "metadata": {},
   "source": [
    "#### Calculate Neural Drift at Encoding\n",
    "\n",
    "El-Kalliny (2014): `neural_drift` = (p1 - p2) / p1"
   ]
  },
  {
   "cell_type": "code",
   "execution_count": 31,
   "id": "0eb6f2da-5e2d-43f8-8c6b-c12795ba5695",
   "metadata": {},
   "outputs": [],
   "source": [
    "def calculate_neural_drift_encoding(nse_data):\n",
    "    nde_data = []\n",
    "    for (sub, et, exp, sess, loc, mont, l), data in tqdm(nse_data.groupby(['subject', 'exp_type', 'experiment', 'session', 'localization', 'montage', 'list'])):\n",
    "        nde = data.groupby('serial_distance')['cosine_similarity'].mean()\n",
    "        p1 = nde.loc[1]\n",
    "        p2 = nde.loc[2]\n",
    "        nd = (p1 - p2) / p1\n",
    "\n",
    "        nde_data.append((sub, et, exp, sess, loc, mont, l, nd))\n",
    "\n",
    "    # save results as dataframe\n",
    "    nde_data = pd.DataFrame(nde_data, columns=['subject', 'exp_type', 'experiment', 'session', 'localization', 'montage', 'list', 'neural_drift'])\n",
    "    \n",
    "    return nde_data\n",
    "\n",
    "def nde_btwn_subj_avg(nde_data):\n",
    "    nde_data_bsa = nde_data.groupby(['subject', 'exp_type', 'experiment'])['neural_drift'].mean().reset_index()\n",
    "    \n",
    "    return nde_data_bsa"
   ]
  },
  {
   "cell_type": "code",
   "execution_count": 30,
   "id": "4f139dd9-0e2c-4b37-aed5-09c7757246cb",
   "metadata": {},
   "outputs": [
    {
     "data": {
      "application/vnd.jupyter.widget-view+json": {
       "model_id": "bdddb769e5ef495b9603df938332c58e",
       "version_major": 2,
       "version_minor": 0
      },
      "text/plain": [
       "  0%|          | 0/70670 [00:00<?, ?it/s]"
      ]
     },
     "metadata": {},
     "output_type": "display_data"
    }
   ],
   "source": [
    "nde_data = calculate_neural_drift_encoding(nse_data)\n",
    "nde_data.to_csv('analyses/dataframes/nde_data.csv', index=False)"
   ]
  },
  {
   "cell_type": "code",
   "execution_count": 28,
   "id": "a9d4dd26-fc1f-4750-a07e-00b44e676750",
   "metadata": {},
   "outputs": [
    {
     "data": {
      "text/html": [
       "<div>\n",
       "<style scoped>\n",
       "    .dataframe tbody tr th:only-of-type {\n",
       "        vertical-align: middle;\n",
       "    }\n",
       "\n",
       "    .dataframe tbody tr th {\n",
       "        vertical-align: top;\n",
       "    }\n",
       "\n",
       "    .dataframe thead th {\n",
       "        text-align: right;\n",
       "    }\n",
       "</style>\n",
       "<table border=\"1\" class=\"dataframe\">\n",
       "  <thead>\n",
       "    <tr style=\"text-align: right;\">\n",
       "      <th></th>\n",
       "      <th>subject</th>\n",
       "      <th>exp_type</th>\n",
       "      <th>experiment</th>\n",
       "      <th>neural_drift</th>\n",
       "    </tr>\n",
       "  </thead>\n",
       "  <tbody>\n",
       "    <tr>\n",
       "      <th>0</th>\n",
       "      <td>BW022</td>\n",
       "      <td>intracranial</td>\n",
       "      <td>pyFR</td>\n",
       "      <td>0.221697</td>\n",
       "    </tr>\n",
       "    <tr>\n",
       "      <th>1</th>\n",
       "      <td>BW023</td>\n",
       "      <td>intracranial</td>\n",
       "      <td>pyFR</td>\n",
       "      <td>0.255409</td>\n",
       "    </tr>\n",
       "    <tr>\n",
       "      <th>2</th>\n",
       "      <td>BW024</td>\n",
       "      <td>intracranial</td>\n",
       "      <td>pyFR</td>\n",
       "      <td>-0.081930</td>\n",
       "    </tr>\n",
       "    <tr>\n",
       "      <th>3</th>\n",
       "      <td>LTP093</td>\n",
       "      <td>scalp</td>\n",
       "      <td>ltpFR2</td>\n",
       "      <td>0.086846</td>\n",
       "    </tr>\n",
       "    <tr>\n",
       "      <th>4</th>\n",
       "      <td>LTP106</td>\n",
       "      <td>scalp</td>\n",
       "      <td>ltpFR2</td>\n",
       "      <td>-0.189067</td>\n",
       "    </tr>\n",
       "    <tr>\n",
       "      <th>...</th>\n",
       "      <td>...</td>\n",
       "      <td>...</td>\n",
       "      <td>...</td>\n",
       "      <td>...</td>\n",
       "    </tr>\n",
       "    <tr>\n",
       "      <th>515</th>\n",
       "      <td>UP042</td>\n",
       "      <td>intracranial</td>\n",
       "      <td>pyFR</td>\n",
       "      <td>0.343848</td>\n",
       "    </tr>\n",
       "    <tr>\n",
       "      <th>516</th>\n",
       "      <td>UP043</td>\n",
       "      <td>intracranial</td>\n",
       "      <td>pyFR</td>\n",
       "      <td>0.427339</td>\n",
       "    </tr>\n",
       "    <tr>\n",
       "      <th>517</th>\n",
       "      <td>UP044</td>\n",
       "      <td>intracranial</td>\n",
       "      <td>pyFR</td>\n",
       "      <td>0.213562</td>\n",
       "    </tr>\n",
       "    <tr>\n",
       "      <th>518</th>\n",
       "      <td>UP045</td>\n",
       "      <td>intracranial</td>\n",
       "      <td>pyFR</td>\n",
       "      <td>0.355234</td>\n",
       "    </tr>\n",
       "    <tr>\n",
       "      <th>519</th>\n",
       "      <td>UP046</td>\n",
       "      <td>intracranial</td>\n",
       "      <td>pyFR</td>\n",
       "      <td>0.364437</td>\n",
       "    </tr>\n",
       "  </tbody>\n",
       "</table>\n",
       "<p>520 rows × 4 columns</p>\n",
       "</div>"
      ],
      "text/plain": [
       "    subject      exp_type experiment  neural_drift\n",
       "0     BW022  intracranial       pyFR      0.221697\n",
       "1     BW023  intracranial       pyFR      0.255409\n",
       "2     BW024  intracranial       pyFR     -0.081930\n",
       "3    LTP093         scalp     ltpFR2      0.086846\n",
       "4    LTP106         scalp     ltpFR2     -0.189067\n",
       "..      ...           ...        ...           ...\n",
       "515   UP042  intracranial       pyFR      0.343848\n",
       "516   UP043  intracranial       pyFR      0.427339\n",
       "517   UP044  intracranial       pyFR      0.213562\n",
       "518   UP045  intracranial       pyFR      0.355234\n",
       "519   UP046  intracranial       pyFR      0.364437\n",
       "\n",
       "[520 rows x 4 columns]"
      ]
     },
     "execution_count": 28,
     "metadata": {},
     "output_type": "execute_result"
    }
   ],
   "source": [
    "# between-subject average\n",
    "nde_data_bsa = nde_data.groupby(['subject', 'exp_type', 'experiment'])['neural_drift'].mean().reset_index()\n",
    "nde_data_bsa"
   ]
  },
  {
   "cell_type": "markdown",
   "id": "5cc61819-f3d8-4b12-a050-7820c33abbd1",
   "metadata": {},
   "source": [
    "#### Correlations with Neural Drift at Encoding"
   ]
  },
  {
   "cell_type": "code",
   "execution_count": null,
   "id": "969d6acb-3989-4a8e-8d91-924830169dca",
   "metadata": {},
   "outputs": [],
   "source": []
  }
 ],
 "metadata": {
  "kernelspec": {
   "display_name": "bids",
   "language": "python",
   "name": "bids"
  },
  "language_info": {
   "codemirror_mode": {
    "name": "ipython",
    "version": 3
   },
   "file_extension": ".py",
   "mimetype": "text/x-python",
   "name": "python",
   "nbconvert_exporter": "python",
   "pygments_lexer": "ipython3",
   "version": "3.11.4"
  }
 },
 "nbformat": 4,
 "nbformat_minor": 5
}
